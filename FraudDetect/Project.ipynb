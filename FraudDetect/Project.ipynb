{
 "cells": [
  {
   "cell_type": "markdown",
   "metadata": {
    "id": "CjmHE-DuEhrW"
   },
   "source": [
    "# Machine Learning 2 Project\n",
    "Worked with Paul\n",
    "\n",
    "We will work on the fraud detection problem, we have implemented Linear regression, Decision tree (xgboost) and finally a neural network. The main difficulty that we have encountered for the fraud detection is that: there are not sufficient fraud record as training sample. The fraud rate is about 8%, so the data set is highly baised. \n",
    "\n",
    "We find that the classical neutral network framework can catch up the features for 10% with rather simple feature engineering while the tree model and linear regression will predict all negative(no fraud). \n",
    "\n",
    "The neural network algorithms can be improved by a more complex design/structure and a longer training time while the XGBoost method can be improved by a onehot encoder and a oversampling."
   ]
  },
  {
   "cell_type": "code",
   "execution_count": null,
   "metadata": {
    "id": "prLCNjLlJmnb"
   },
   "outputs": [],
   "source": [
    "import pandas as pd\n",
    "import numpy as np\n",
    "import matplotlib.pyplot as plt\n",
    "import sklearn\n",
    "import datetime"
   ]
  },
  {
   "cell_type": "markdown",
   "metadata": {
    "id": "e6K6Fj1lJmnk"
   },
   "source": [
    "### Import and look at the data"
   ]
  },
  {
   "cell_type": "code",
   "execution_count": null,
   "metadata": {
    "colab": {
     "base_uri": "https://localhost:8080/",
     "height": 456
    },
    "id": "XOx0X0M3Jmnm",
    "outputId": "cd638f8f-d39e-4ca2-d0b6-7554a061c602"
   },
   "outputs": [
    {
     "name": "stdout",
     "output_type": "stream",
     "text": [
      "<class 'pandas.core.frame.DataFrame'>\n",
      "RangeIndex: 5380 entries, 0 to 5379\n",
      "Data columns (total 19 columns):\n",
      " #   Column               Non-Null Count  Dtype  \n",
      "---  ------               --------------  -----  \n",
      " 0   Id_Customer          5380 non-null   int64  \n",
      " 1   Y                    5380 non-null   int64  \n",
      " 2   Customer_Type        5380 non-null   object \n",
      " 3   BirthDate            5380 non-null   object \n",
      " 4   Customer_Open_Date   5380 non-null   object \n",
      " 5   P_Client             5380 non-null   object \n",
      " 6   Educational_Level    5380 non-null   object \n",
      " 7   Marital_Status       5380 non-null   object \n",
      " 8   Number_Of_Dependant  5378 non-null   float64\n",
      " 9   Years_At_Residence   5380 non-null   int64  \n",
      " 10  Net_Annual_Income    5378 non-null   object \n",
      " 11  Years_At_Business    5378 non-null   float64\n",
      " 12  Prod_Sub_Category    5380 non-null   object \n",
      " 13  Prod_Decision_Date   5380 non-null   object \n",
      " 14  Source               5380 non-null   object \n",
      " 15  Type_Of_Residence    5380 non-null   object \n",
      " 16  Nb_Of_Products       5380 non-null   int64  \n",
      " 17  Prod_Closed_Date     1174 non-null   object \n",
      " 18  Prod_Category        5380 non-null   object \n",
      "dtypes: float64(2), int64(4), object(13)\n",
      "memory usage: 798.7+ KB\n"
     ]
    }
   ],
   "source": [
    "df = pd.read_csv(\"CreditTraining.csv\")\n",
    "df.info()"
   ]
  },
  {
   "cell_type": "code",
   "execution_count": null,
   "metadata": {
    "colab": {
     "base_uri": "https://localhost:8080/",
     "height": 268
    },
    "id": "jAbB-BIYJmnv",
    "outputId": "9844bc0d-1997-4960-eceb-a37168762611"
   },
   "outputs": [
    {
     "data": {
      "text/html": [
       "<div>\n",
       "<style scoped>\n",
       "    .dataframe tbody tr th:only-of-type {\n",
       "        vertical-align: middle;\n",
       "    }\n",
       "\n",
       "    .dataframe tbody tr th {\n",
       "        vertical-align: top;\n",
       "    }\n",
       "\n",
       "    .dataframe thead th {\n",
       "        text-align: right;\n",
       "    }\n",
       "</style>\n",
       "<table border=\"1\" class=\"dataframe\">\n",
       "  <thead>\n",
       "    <tr style=\"text-align: right;\">\n",
       "      <th></th>\n",
       "      <th>Id_Customer</th>\n",
       "      <th>Y</th>\n",
       "      <th>Customer_Type</th>\n",
       "      <th>BirthDate</th>\n",
       "      <th>Customer_Open_Date</th>\n",
       "      <th>P_Client</th>\n",
       "      <th>Educational_Level</th>\n",
       "      <th>Marital_Status</th>\n",
       "      <th>Number_Of_Dependant</th>\n",
       "      <th>Years_At_Residence</th>\n",
       "      <th>Net_Annual_Income</th>\n",
       "      <th>Years_At_Business</th>\n",
       "      <th>Prod_Sub_Category</th>\n",
       "      <th>Prod_Decision_Date</th>\n",
       "      <th>Source</th>\n",
       "      <th>Type_Of_Residence</th>\n",
       "      <th>Nb_Of_Products</th>\n",
       "      <th>Prod_Closed_Date</th>\n",
       "      <th>Prod_Category</th>\n",
       "    </tr>\n",
       "  </thead>\n",
       "  <tbody>\n",
       "    <tr>\n",
       "      <th>0</th>\n",
       "      <td>7440</td>\n",
       "      <td>0</td>\n",
       "      <td>Non Existing Client</td>\n",
       "      <td>07/08/1977</td>\n",
       "      <td>13/02/2012</td>\n",
       "      <td>NP_Client</td>\n",
       "      <td>University</td>\n",
       "      <td>Married</td>\n",
       "      <td>3.0</td>\n",
       "      <td>1</td>\n",
       "      <td>36</td>\n",
       "      <td>1.0</td>\n",
       "      <td>C</td>\n",
       "      <td>14/02/2012</td>\n",
       "      <td>Sales</td>\n",
       "      <td>Owned</td>\n",
       "      <td>1</td>\n",
       "      <td>NaN</td>\n",
       "      <td>B</td>\n",
       "    </tr>\n",
       "    <tr>\n",
       "      <th>1</th>\n",
       "      <td>573</td>\n",
       "      <td>0</td>\n",
       "      <td>Existing Client</td>\n",
       "      <td>13/06/1974</td>\n",
       "      <td>04/02/2009</td>\n",
       "      <td>P_Client</td>\n",
       "      <td>University</td>\n",
       "      <td>Married</td>\n",
       "      <td>0.0</td>\n",
       "      <td>12</td>\n",
       "      <td>18</td>\n",
       "      <td>2.0</td>\n",
       "      <td>C</td>\n",
       "      <td>30/06/2011</td>\n",
       "      <td>Sales</td>\n",
       "      <td>Parents</td>\n",
       "      <td>1</td>\n",
       "      <td>NaN</td>\n",
       "      <td>G</td>\n",
       "    </tr>\n",
       "    <tr>\n",
       "      <th>2</th>\n",
       "      <td>9194</td>\n",
       "      <td>0</td>\n",
       "      <td>Non Existing Client</td>\n",
       "      <td>07/11/1973</td>\n",
       "      <td>03/04/2012</td>\n",
       "      <td>NP_Client</td>\n",
       "      <td>University</td>\n",
       "      <td>Married</td>\n",
       "      <td>2.0</td>\n",
       "      <td>10</td>\n",
       "      <td>36</td>\n",
       "      <td>1.0</td>\n",
       "      <td>C</td>\n",
       "      <td>04/04/2012</td>\n",
       "      <td>Sales</td>\n",
       "      <td>Owned</td>\n",
       "      <td>1</td>\n",
       "      <td>NaN</td>\n",
       "      <td>B</td>\n",
       "    </tr>\n",
       "    <tr>\n",
       "      <th>3</th>\n",
       "      <td>3016</td>\n",
       "      <td>1</td>\n",
       "      <td>Existing Client</td>\n",
       "      <td>08/07/1982</td>\n",
       "      <td>25/08/2011</td>\n",
       "      <td>NP_Client</td>\n",
       "      <td>University</td>\n",
       "      <td>Married</td>\n",
       "      <td>3.0</td>\n",
       "      <td>3</td>\n",
       "      <td>36</td>\n",
       "      <td>1.0</td>\n",
       "      <td>C</td>\n",
       "      <td>07/09/2011</td>\n",
       "      <td>Sales</td>\n",
       "      <td>New rent</td>\n",
       "      <td>1</td>\n",
       "      <td>31/12/2012</td>\n",
       "      <td>L</td>\n",
       "    </tr>\n",
       "    <tr>\n",
       "      <th>4</th>\n",
       "      <td>6524</td>\n",
       "      <td>0</td>\n",
       "      <td>Non Existing Client</td>\n",
       "      <td>18/08/1953</td>\n",
       "      <td>10/01/2012</td>\n",
       "      <td>NP_Client</td>\n",
       "      <td>University</td>\n",
       "      <td>Married</td>\n",
       "      <td>2.0</td>\n",
       "      <td>1</td>\n",
       "      <td>36</td>\n",
       "      <td>1.0</td>\n",
       "      <td>C</td>\n",
       "      <td>11/01/2012</td>\n",
       "      <td>Sales</td>\n",
       "      <td>Owned</td>\n",
       "      <td>1</td>\n",
       "      <td>NaN</td>\n",
       "      <td>D</td>\n",
       "    </tr>\n",
       "  </tbody>\n",
       "</table>\n",
       "</div>"
      ],
      "text/plain": [
       "   Id_Customer  Y  ... Prod_Closed_Date Prod_Category\n",
       "0         7440  0  ...              NaN             B\n",
       "1          573  0  ...              NaN             G\n",
       "2         9194  0  ...              NaN             B\n",
       "3         3016  1  ...       31/12/2012             L\n",
       "4         6524  0  ...              NaN             D\n",
       "\n",
       "[5 rows x 19 columns]"
      ]
     },
     "execution_count": 5,
     "metadata": {
      "tags": []
     },
     "output_type": "execute_result"
    }
   ],
   "source": [
    "df.head()"
   ]
  },
  {
   "cell_type": "markdown",
   "metadata": {
    "id": "4HMlxPrKJgJb"
   },
   "source": [
    "Eliminate Id and Y from features:"
   ]
  },
  {
   "cell_type": "code",
   "execution_count": null,
   "metadata": {
    "colab": {
     "base_uri": "https://localhost:8080/",
     "height": 54
    },
    "id": "duEhSetLJjbm",
    "outputId": "df21ae96-ec39-432c-903e-03a24393b94e"
   },
   "outputs": [
    {
     "name": "stdout",
     "output_type": "stream",
     "text": [
      "['Customer_Type', 'BirthDate', 'Customer_Open_Date', 'P_Client', 'Educational_Level', 'Marital_Status', 'Number_Of_Dependant', 'Years_At_Residence', 'Net_Annual_Income', 'Years_At_Business', 'Prod_Sub_Category', 'Prod_Decision_Date', 'Source', 'Type_Of_Residence', 'Nb_Of_Products', 'Prod_Closed_Date', 'Prod_Category']\n"
     ]
    }
   ],
   "source": [
    "features = df.columns.values.tolist()[2:]\n",
    "print(features)"
   ]
  },
  {
   "cell_type": "markdown",
   "metadata": {
    "id": "fL0TMJnIJmn3"
   },
   "source": [
    "We remark that aside from the column \"Prod_Closed_Date\", we don't miss much values in other feature columns."
   ]
  },
  {
   "cell_type": "code",
   "execution_count": null,
   "metadata": {
    "colab": {
     "base_uri": "https://localhost:8080/",
     "height": 1000
    },
    "id": "vrdGZYXPJmn4",
    "outputId": "bb170f3f-fb31-47de-82ff-8dc4cc5f2c12"
   },
   "outputs": [
    {
     "name": "stdout",
     "output_type": "stream",
     "text": [
      "Customer_Type value counts:\n",
      " Non Existing Client    3369\n",
      "Existing Client        2011\n",
      "Name: Customer_Type, dtype: int64 \n",
      "\n",
      "BirthDate value counts:\n",
      " 01/01/1973    7\n",
      "01/01/1982    7\n",
      "01/01/1985    6\n",
      "01/10/1984    6\n",
      "01/01/1970    6\n",
      "             ..\n",
      "09/06/1983    1\n",
      "28/02/1982    1\n",
      "01/06/1965    1\n",
      "16/03/1955    1\n",
      "15/11/1978    1\n",
      "Name: BirthDate, Length: 4382, dtype: int64 \n",
      "\n",
      "Customer_Open_Date value counts:\n",
      " 05/12/2011    39\n",
      "12/12/2011    38\n",
      "17/07/2011    37\n",
      "18/09/2011    36\n",
      "14/07/2011    36\n",
      "              ..\n",
      "17/02/2001     1\n",
      "05/01/2006     1\n",
      "10/01/2005     1\n",
      "27/02/2001     1\n",
      "20/01/2008     1\n",
      "Name: Customer_Open_Date, Length: 1244, dtype: int64 \n",
      "\n",
      "P_Client value counts:\n",
      " NP_Client    4968\n",
      "P_Client      412\n",
      "Name: P_Client, dtype: int64 \n",
      "\n",
      "Educational_Level value counts:\n",
      " University           4785\n",
      "Master/PhD            522\n",
      "Diploma                58\n",
      "Secondary or Less      15\n",
      "Name: Educational_Level, dtype: int64 \n",
      "\n",
      "Marital_Status value counts:\n",
      " Married      4206\n",
      "Single       1046\n",
      "Widowed        64\n",
      "Divorced       63\n",
      "Separated       1\n",
      "Name: Marital_Status, dtype: int64 \n",
      "\n",
      "Number_Of_Dependant value counts:\n",
      " 0.0     2889\n",
      "2.0     1135\n",
      "3.0      622\n",
      "1.0      485\n",
      "4.0      201\n",
      "5.0       32\n",
      "6.0        8\n",
      "7.0        4\n",
      "12.0       1\n",
      "20.0       1\n",
      "Name: Number_Of_Dependant, dtype: int64 \n",
      "\n",
      "Years_At_Residence value counts:\n",
      " 10    987\n",
      "1     892\n",
      "15    840\n",
      "20    336\n",
      "2     195\n",
      "5     184\n",
      "22    175\n",
      "30    150\n",
      "3     136\n",
      "25    135\n",
      "4     126\n",
      "7     108\n",
      "6     107\n",
      "12    100\n",
      "8      85\n",
      "11     76\n",
      "40     66\n",
      "23     48\n",
      "28     46\n",
      "9      44\n",
      "24     40\n",
      "16     38\n",
      "13     37\n",
      "21     36\n",
      "26     36\n",
      "35     34\n",
      "18     33\n",
      "27     32\n",
      "29     26\n",
      "14     25\n",
      "17     21\n",
      "33     20\n",
      "32     18\n",
      "31     18\n",
      "37     17\n",
      "19     14\n",
      "0      13\n",
      "34     13\n",
      "38     12\n",
      "50     10\n",
      "45      7\n",
      "44      5\n",
      "52      4\n",
      "43      4\n",
      "47      4\n",
      "39      4\n",
      "42      3\n",
      "54      3\n",
      "48      2\n",
      "55      2\n",
      "51      2\n",
      "36      2\n",
      "49      2\n",
      "70      1\n",
      "41      1\n",
      "62      1\n",
      "46      1\n",
      "60      1\n",
      "57      1\n",
      "59      1\n",
      "Name: Years_At_Residence, dtype: int64 \n",
      "\n",
      "Net_Annual_Income value counts:\n",
      " 36        1807\n",
      "18         878\n",
      "20         430\n",
      "30         400\n",
      "50         257\n",
      "          ... \n",
      "31,236       1\n",
      "31,692       1\n",
      "42,792       1\n",
      "46,2         1\n",
      "96,996       1\n",
      "Name: Net_Annual_Income, Length: 522, dtype: int64 \n",
      "\n",
      "Years_At_Business value counts:\n",
      " 1.0     2703\n",
      "2.0      729\n",
      "3.0      466\n",
      "10.0     383\n",
      "5.0      153\n",
      "4.0      123\n",
      "0.0       98\n",
      "6.0       87\n",
      "20.0      69\n",
      "7.0       61\n",
      "15.0      58\n",
      "12.0      50\n",
      "8.0       45\n",
      "11.0      33\n",
      "22.0      29\n",
      "9.0       28\n",
      "21.0      27\n",
      "30.0      25\n",
      "25.0      23\n",
      "16.0      22\n",
      "14.0      19\n",
      "19.0      17\n",
      "18.0      15\n",
      "23.0      15\n",
      "17.0      12\n",
      "13.0      11\n",
      "27.0      10\n",
      "35.0       9\n",
      "24.0       8\n",
      "26.0       7\n",
      "28.0       7\n",
      "98.0       7\n",
      "40.0       5\n",
      "32.0       4\n",
      "31.0       4\n",
      "97.0       3\n",
      "29.0       2\n",
      "37.0       2\n",
      "50.0       2\n",
      "34.0       2\n",
      "33.0       2\n",
      "48.0       1\n",
      "39.0       1\n",
      "54.0       1\n",
      "Name: Years_At_Business, dtype: int64 \n",
      "\n",
      "Prod_Sub_Category value counts:\n",
      " C    4638\n",
      "G     624\n",
      "P     118\n",
      "Name: Prod_Sub_Category, dtype: int64 \n",
      "\n",
      "Prod_Decision_Date value counts:\n",
      " 06/12/2011    48\n",
      "27/09/2011    45\n",
      "05/01/2012    44\n",
      "22/03/2012    42\n",
      "29/11/2011    42\n",
      "              ..\n",
      "24/12/2011     1\n",
      "27/04/2012     1\n",
      "14/01/2012     1\n",
      "08/07/2011     1\n",
      "31/03/2012     1\n",
      "Name: Prod_Decision_Date, Length: 276, dtype: int64 \n",
      "\n",
      "Source value counts:\n",
      " Sales     4119\n",
      "Branch    1261\n",
      "Name: Source, dtype: int64 \n",
      "\n",
      "Type_Of_Residence value counts:\n",
      " Owned       4791\n",
      "Old rent     323\n",
      "Parents      179\n",
      "New rent      83\n",
      "Company        4\n",
      "Name: Type_Of_Residence, dtype: int64 \n",
      "\n",
      "Nb_Of_Products value counts:\n",
      " 1    4921\n",
      "2     439\n",
      "3      20\n",
      "Name: Nb_Of_Products, dtype: int64 \n",
      "\n",
      "Prod_Closed_Date value counts:\n",
      " 30/05/2013    98\n",
      "29/11/2012    60\n",
      "31/10/2012    31\n",
      "28/06/2012    30\n",
      "31/03/2013    27\n",
      "              ..\n",
      "05/05/2013     1\n",
      "21/09/2012     1\n",
      "21/03/2012     1\n",
      "09/07/2012     1\n",
      "12/06/2012     1\n",
      "Name: Prod_Closed_Date, Length: 331, dtype: int64 \n",
      "\n",
      "Prod_Category value counts:\n",
      " B    3176\n",
      "D     670\n",
      "C     517\n",
      "K     265\n",
      "L     236\n",
      "G     188\n",
      "E     101\n",
      "H      79\n",
      "J      71\n",
      "M      49\n",
      "A      19\n",
      "F       5\n",
      "I       4\n",
      "Name: Prod_Category, dtype: int64 \n",
      "\n"
     ]
    }
   ],
   "source": [
    "features = df.columns.values.tolist()[2:]\n",
    "for f in features:\n",
    "    print(f+\" value counts:\\n\", df[f].value_counts(), '\\n')"
   ]
  },
  {
   "cell_type": "markdown",
   "metadata": {
    "id": "Lvmi8yLSJvHv"
   },
   "source": [
    "We select out the categorical features for further processing.\n"
   ]
  },
  {
   "cell_type": "code",
   "execution_count": null,
   "metadata": {
    "id": "J5Y2GujVJmoC"
   },
   "outputs": [],
   "source": [
    "features_cat = ['Customer_Type','P_Client','Educational_Level','Marital_Status','Prod_Sub_Category',\n",
    "                    'Source','Type_Of_Residence', 'Prod_Category']\n",
    "features_num = list(set(features) - set(features_cat)) # get the numerical and categorical features stored in seperate list."
   ]
  },
  {
   "cell_type": "markdown",
   "metadata": {
    "id": "f1gH5Lj7JmoQ"
   },
   "source": [
    "#### Change date features"
   ]
  },
  {
   "cell_type": "code",
   "execution_count": null,
   "metadata": {
    "colab": {
     "base_uri": "https://localhost:8080/",
     "height": 301
    },
    "id": "Qdx7XohlJmoS",
    "outputId": "6d02cef0-5a93-456a-83f2-2adcd29f2fd0",
    "scrolled": false
   },
   "outputs": [
    {
     "data": {
      "text/html": [
       "<div>\n",
       "<style scoped>\n",
       "    .dataframe tbody tr th:only-of-type {\n",
       "        vertical-align: middle;\n",
       "    }\n",
       "\n",
       "    .dataframe tbody tr th {\n",
       "        vertical-align: top;\n",
       "    }\n",
       "\n",
       "    .dataframe thead th {\n",
       "        text-align: right;\n",
       "    }\n",
       "</style>\n",
       "<table border=\"1\" class=\"dataframe\">\n",
       "  <thead>\n",
       "    <tr style=\"text-align: right;\">\n",
       "      <th></th>\n",
       "      <th>Id_Customer</th>\n",
       "      <th>Y</th>\n",
       "      <th>Customer_Type</th>\n",
       "      <th>BirthDate</th>\n",
       "      <th>Customer_Open_Date</th>\n",
       "      <th>P_Client</th>\n",
       "      <th>Educational_Level</th>\n",
       "      <th>Marital_Status</th>\n",
       "      <th>Number_Of_Dependant</th>\n",
       "      <th>Years_At_Residence</th>\n",
       "      <th>Net_Annual_Income</th>\n",
       "      <th>Years_At_Business</th>\n",
       "      <th>Prod_Sub_Category</th>\n",
       "      <th>Prod_Decision_Date</th>\n",
       "      <th>Source</th>\n",
       "      <th>Type_Of_Residence</th>\n",
       "      <th>Nb_Of_Products</th>\n",
       "      <th>Prod_Closed_Date</th>\n",
       "      <th>Prod_Category</th>\n",
       "    </tr>\n",
       "  </thead>\n",
       "  <tbody>\n",
       "    <tr>\n",
       "      <th>0</th>\n",
       "      <td>7440</td>\n",
       "      <td>0</td>\n",
       "      <td>Non Existing Client</td>\n",
       "      <td>1977-08-07</td>\n",
       "      <td>2012-02-13</td>\n",
       "      <td>NP_Client</td>\n",
       "      <td>University</td>\n",
       "      <td>Married</td>\n",
       "      <td>3.0</td>\n",
       "      <td>1</td>\n",
       "      <td>36</td>\n",
       "      <td>1.0</td>\n",
       "      <td>C</td>\n",
       "      <td>2012-02-14</td>\n",
       "      <td>Sales</td>\n",
       "      <td>Owned</td>\n",
       "      <td>1</td>\n",
       "      <td>NaT</td>\n",
       "      <td>B</td>\n",
       "    </tr>\n",
       "    <tr>\n",
       "      <th>1</th>\n",
       "      <td>573</td>\n",
       "      <td>0</td>\n",
       "      <td>Existing Client</td>\n",
       "      <td>1974-06-13</td>\n",
       "      <td>2009-02-04</td>\n",
       "      <td>P_Client</td>\n",
       "      <td>University</td>\n",
       "      <td>Married</td>\n",
       "      <td>0.0</td>\n",
       "      <td>12</td>\n",
       "      <td>18</td>\n",
       "      <td>2.0</td>\n",
       "      <td>C</td>\n",
       "      <td>2011-06-30</td>\n",
       "      <td>Sales</td>\n",
       "      <td>Parents</td>\n",
       "      <td>1</td>\n",
       "      <td>NaT</td>\n",
       "      <td>G</td>\n",
       "    </tr>\n",
       "    <tr>\n",
       "      <th>2</th>\n",
       "      <td>9194</td>\n",
       "      <td>0</td>\n",
       "      <td>Non Existing Client</td>\n",
       "      <td>1973-11-07</td>\n",
       "      <td>2012-04-03</td>\n",
       "      <td>NP_Client</td>\n",
       "      <td>University</td>\n",
       "      <td>Married</td>\n",
       "      <td>2.0</td>\n",
       "      <td>10</td>\n",
       "      <td>36</td>\n",
       "      <td>1.0</td>\n",
       "      <td>C</td>\n",
       "      <td>2012-04-04</td>\n",
       "      <td>Sales</td>\n",
       "      <td>Owned</td>\n",
       "      <td>1</td>\n",
       "      <td>NaT</td>\n",
       "      <td>B</td>\n",
       "    </tr>\n",
       "    <tr>\n",
       "      <th>3</th>\n",
       "      <td>3016</td>\n",
       "      <td>1</td>\n",
       "      <td>Existing Client</td>\n",
       "      <td>1982-07-08</td>\n",
       "      <td>2011-08-25</td>\n",
       "      <td>NP_Client</td>\n",
       "      <td>University</td>\n",
       "      <td>Married</td>\n",
       "      <td>3.0</td>\n",
       "      <td>3</td>\n",
       "      <td>36</td>\n",
       "      <td>1.0</td>\n",
       "      <td>C</td>\n",
       "      <td>2011-09-07</td>\n",
       "      <td>Sales</td>\n",
       "      <td>New rent</td>\n",
       "      <td>1</td>\n",
       "      <td>2012-12-31</td>\n",
       "      <td>L</td>\n",
       "    </tr>\n",
       "    <tr>\n",
       "      <th>4</th>\n",
       "      <td>6524</td>\n",
       "      <td>0</td>\n",
       "      <td>Non Existing Client</td>\n",
       "      <td>1953-08-18</td>\n",
       "      <td>2012-01-10</td>\n",
       "      <td>NP_Client</td>\n",
       "      <td>University</td>\n",
       "      <td>Married</td>\n",
       "      <td>2.0</td>\n",
       "      <td>1</td>\n",
       "      <td>36</td>\n",
       "      <td>1.0</td>\n",
       "      <td>C</td>\n",
       "      <td>2012-01-11</td>\n",
       "      <td>Sales</td>\n",
       "      <td>Owned</td>\n",
       "      <td>1</td>\n",
       "      <td>NaT</td>\n",
       "      <td>D</td>\n",
       "    </tr>\n",
       "  </tbody>\n",
       "</table>\n",
       "</div>"
      ],
      "text/plain": [
       "   Id_Customer  Y  ... Prod_Closed_Date Prod_Category\n",
       "0         7440  0  ...              NaT             B\n",
       "1          573  0  ...              NaT             G\n",
       "2         9194  0  ...              NaT             B\n",
       "3         3016  1  ...       2012-12-31             L\n",
       "4         6524  0  ...              NaT             D\n",
       "\n",
       "[5 rows x 19 columns]"
      ]
     },
     "execution_count": 9,
     "metadata": {
      "tags": []
     },
     "output_type": "execute_result"
    }
   ],
   "source": [
    "dates = ['BirthDate', 'Customer_Open_Date', 'Prod_Decision_Date','Prod_Closed_Date']\n",
    "for d in dates:\n",
    "    df[d] = pd.to_datetime(df[d], format = \"%d/%m/%Y\", errors='ignore')\n",
    "df.head()"
   ]
  },
  {
   "cell_type": "markdown",
   "metadata": {
    "id": "7YokhyiBJmoa"
   },
   "source": [
    "#### Change string to float"
   ]
  },
  {
   "cell_type": "code",
   "execution_count": null,
   "metadata": {
    "id": "QON6o_yEJmoh"
   },
   "outputs": [],
   "source": [
    "to_float = ['Net_Annual_Income']\n",
    "for f in to_float:\n",
    "    df[f] = df[f].str.replace(',','.').astype(float)"
   ]
  },
  {
   "cell_type": "markdown",
   "metadata": {
    "id": "ja9kGwniJ9uM"
   },
   "source": [
    "We now could have a look at the numerical features distribution over the dataset and on the dataset of positive labels. \n",
    "By observation, we find that the net annual income may be a important feature."
   ]
  },
  {
   "cell_type": "code",
   "execution_count": null,
   "metadata": {
    "colab": {
     "base_uri": "https://localhost:8080/",
     "height": 499
    },
    "id": "WI7k9vBYA6kk",
    "outputId": "b650ae17-66f8-4ff1-b598-985beb9ba84d"
   },
   "outputs": [
    {
     "data": {
      "image/png": "[encoded data removed]",
      "text/plain": [
       "<Figure size 720x576 with 6 Axes>"
      ]
     },
     "metadata": {
      "needs_background": "light",
      "tags": []
     },
     "output_type": "display_data"
    }
   ],
   "source": [
    "df[features].hist(bins = 50, figsize = (10,8))\n",
    "plt.show()"
   ]
  },
  {
   "cell_type": "code",
   "execution_count": null,
   "metadata": {
    "colab": {
     "base_uri": "https://localhost:8080/",
     "height": 499
    },
    "id": "54zoCJ8PA6ks",
    "outputId": "56c24119-32f4-45e6-b37a-e730ede3fdcf"
   },
   "outputs": [
    {
     "data": {
      "image/png": "[encoded data removed]",
      "text/plain": [
       "<Figure size 720x576 with 6 Axes>"
      ]
     },
     "metadata": {
      "needs_background": "light",
      "tags": []
     },
     "output_type": "display_data"
    }
   ],
   "source": [
    "fraud_set = df[df['Y'] == 1]\n",
    "fraud_set[features].hist(bins = 20, figsize = (10,8))\n",
    "plt.show()"
   ]
  },
  {
   "cell_type": "markdown",
   "metadata": {
    "id": "5XyQxhAhKXaN"
   },
   "source": [
    "### Data cleaning"
   ]
  },
  {
   "cell_type": "markdown",
   "metadata": {
    "id": "rcv2atmOKXaP"
   },
   "source": [
    "#### Catagorical features"
   ]
  },
  {
   "cell_type": "code",
   "execution_count": null,
   "metadata": {
    "id": "usw8pSgYKXaR"
   },
   "outputs": [],
   "source": [
    "from sklearn.preprocessing import LabelEncoder"
   ]
  },
  {
   "cell_type": "code",
   "execution_count": null,
   "metadata": {
    "id": "3dqRG4tzKXaX"
   },
   "outputs": [],
   "source": [
    "# use a new data_frame df_c \n",
    "df_c = df.copy()\n",
    "encoder_dict = {}\n",
    "for f in features_cat:\n",
    "    encoder = LabelEncoder()\n",
    "    df_c[f] = encoder.fit_transform(df_c[f])\n",
    "    encoder_dict[f] = dict(zip(encoder.classes_, encoder.transform(encoder.classes_))) # encoder_dict store the initial categorical value and the corresponding numerical value."
   ]
  },
  {
   "cell_type": "markdown",
   "metadata": {
    "id": "xiaKwxYBA6lC"
   },
   "source": [
    "### Visualize data after changed categorical features to numerical ones"
   ]
  },
  {
   "cell_type": "code",
   "execution_count": null,
   "metadata": {
    "colab": {
     "base_uri": "https://localhost:8080/",
     "height": 607
    },
    "id": "sYHT14t1A6lD",
    "outputId": "ae5cbf06-e695-451c-e59a-69216f7fa361"
   },
   "outputs": [
    {
     "data": {
      "image/png": "[encoded data removed]",
      "text/plain": [
       "<Figure size 864x720 with 16 Axes>"
      ]
     },
     "metadata": {
      "needs_background": "light",
      "tags": []
     },
     "output_type": "display_data"
    }
   ],
   "source": [
    "df_c.drop(\"Id_Customer\", axis = 1).hist(bins = 20, figsize = (12,10))\n",
    "plt.show()"
   ]
  },
  {
   "cell_type": "code",
   "execution_count": null,
   "metadata": {
    "colab": {
     "base_uri": "https://localhost:8080/",
     "height": 607
    },
    "id": "sq1bg8AhA6lJ",
    "outputId": "e28258d4-ef6c-445c-b782-ccad4f70cbff"
   },
   "outputs": [
    {
     "data": {
      "image/png": "[encoded data removed]",
      "text/plain": [
       "<Figure size 864x720 with 16 Axes>"
      ]
     },
     "metadata": {
      "needs_background": "light",
      "tags": []
     },
     "output_type": "display_data"
    }
   ],
   "source": [
    "df_c[df_c[\"Y\"]==1].drop(\"Id_Customer\", axis = 1).hist(bins = 20, figsize = (12,10))\n",
    "plt.show()"
   ]
  },
  {
   "cell_type": "markdown",
   "metadata": {
    "id": "m-2BeVbUKhws"
   },
   "source": []
  },
  {
   "cell_type": "code",
   "execution_count": null,
   "metadata": {
    "colab": {
     "base_uri": "https://localhost:8080/",
     "height": 541
    },
    "id": "5EK_ihJ1A6lO",
    "outputId": "b10c1aee-b48d-419b-ef15-adc3668d9f83"
   },
   "outputs": [
    {
     "data": {
      "text/plain": [
       "{'Customer_Type': {'Existing Client': 0, 'Non Existing Client': 1},\n",
       " 'Educational_Level': {'Diploma': 0,\n",
       "  'Master/PhD': 1,\n",
       "  'Secondary or Less': 2,\n",
       "  'University': 3},\n",
       " 'Marital_Status': {'Divorced': 0,\n",
       "  'Married': 1,\n",
       "  'Separated': 2,\n",
       "  'Single': 3,\n",
       "  'Widowed': 4},\n",
       " 'P_Client': {'NP_Client': 0, 'P_Client': 1},\n",
       " 'Prod_Category': {'A': 0,\n",
       "  'B': 1,\n",
       "  'C': 2,\n",
       "  'D': 3,\n",
       "  'E': 4,\n",
       "  'F': 5,\n",
       "  'G': 6,\n",
       "  'H': 7,\n",
       "  'I': 8,\n",
       "  'J': 9,\n",
       "  'K': 10,\n",
       "  'L': 11,\n",
       "  'M': 12},\n",
       " 'Prod_Sub_Category': {'C': 0, 'G': 1, 'P': 2},\n",
       " 'Source': {'Branch': 0, 'Sales': 1},\n",
       " 'Type_Of_Residence': {'Company': 0,\n",
       "  'New rent': 1,\n",
       "  'Old rent': 2,\n",
       "  'Owned': 3,\n",
       "  'Parents': 4}}"
      ]
     },
     "execution_count": 17,
     "metadata": {
      "tags": []
     },
     "output_type": "execute_result"
    }
   ],
   "source": [
    "encoder_dict"
   ]
  },
  {
   "cell_type": "markdown",
   "metadata": {
    "id": "4oGN3SoxA6lV"
   },
   "source": [
    "We remark that the product category K has a higer fraud ratio."
   ]
  },
  {
   "cell_type": "markdown",
   "metadata": {
    "id": "W5O5bg9nKXad"
   },
   "source": [
    "### OneHot encoder maybe be a better choice"
   ]
  },
  {
   "cell_type": "code",
   "execution_count": null,
   "metadata": {
    "id": "QiwAN88xKXae"
   },
   "outputs": [],
   "source": [
    "from sklearn.preprocessing import OneHotEncoder"
   ]
  },
  {
   "cell_type": "code",
   "execution_count": null,
   "metadata": {
    "id": "h57SmRebKXaq"
   },
   "outputs": [],
   "source": [
    "df_1hot = df.copy()\n",
    "for f in features_cat:\n",
    "    encoder_1hot = OneHotEncoder()\n",
    "    tmp = encoder_1hot.fit_transform(df[f].to_numpy().reshape(-1,1))\n",
    "    n_class = len(df[f].value_counts())\n",
    "    dic = {}\n",
    "    for i in range(n_class):\n",
    "        dic[i]= f\"{f}\"+str(i) # rename categorical features by the form: \"cat_name\"+\"numerical class\"\n",
    "    tmp = pd.DataFrame(tmp.toarray()).rename(columns=dic)\n",
    "    df_1hot = df_1hot.drop(f, axis=1)\n",
    "    df_1hot = pd.concat([df_1hot, tmp], axis=1)\n",
    "df_1hot = df_1hot.drop(\"Id_Customer\", axis = 1) # Id_Customer is a useless feature"
   ]
  },
  {
   "cell_type": "markdown",
   "metadata": {
    "id": "_4dlitMvJmon"
   },
   "source": [
    "## Split train, test set, and drop label in test set"
   ]
  },
  {
   "cell_type": "markdown",
   "metadata": {
    "id": "wPzC8n-2KwYv"
   },
   "source": [
    "After the preprocessing, we could now split the train-test set. We choose the test-set portion to be 0.3."
   ]
  },
  {
   "cell_type": "code",
   "execution_count": null,
   "metadata": {
    "id": "bwWt7LeHJmop"
   },
   "outputs": [],
   "source": [
    "from sklearn.model_selection import train_test_split\n",
    "from sklearn.metrics import precision_score, recall_score"
   ]
  },
  {
   "cell_type": "code",
   "execution_count": null,
   "metadata": {
    "colab": {
     "base_uri": "https://localhost:8080/",
     "height": 51
    },
    "id": "jkrd3kUGJmow",
    "outputId": "dc026180-9cd1-4965-972c-eaad00853ac4"
   },
   "outputs": [
    {
     "name": "stdout",
     "output_type": "stream",
     "text": [
      "3766\n",
      "1614\n"
     ]
    }
   ],
   "source": [
    "train_set, test_set = train_test_split(df_1hot, test_size = 0.3, random_state = 2020)\n",
    "train_label = train_set['Y'].copy()\n",
    "train_set_c = train_set.drop('Y', axis = 1)\n",
    "test_label = test_set['Y'].copy()  \n",
    "test_set_c = test_set.drop('Y', axis = 1)\n",
    "\n",
    "print(len(train_label))\n",
    "print(len(test_label))\n"
   ]
  },
  {
   "cell_type": "code",
   "execution_count": null,
   "metadata": {
    "colab": {
     "base_uri": "https://localhost:8080/",
     "height": 301
    },
    "id": "a-PbOz0dKXbC",
    "outputId": "75129bcf-eba0-4fc6-a48e-d441f577b067"
   },
   "outputs": [
    {
     "data": {
      "text/html": [
       "<div>\n",
       "<style scoped>\n",
       "    .dataframe tbody tr th:only-of-type {\n",
       "        vertical-align: middle;\n",
       "    }\n",
       "\n",
       "    .dataframe tbody tr th {\n",
       "        vertical-align: top;\n",
       "    }\n",
       "\n",
       "    .dataframe thead th {\n",
       "        text-align: right;\n",
       "    }\n",
       "</style>\n",
       "<table border=\"1\" class=\"dataframe\">\n",
       "  <thead>\n",
       "    <tr style=\"text-align: right;\">\n",
       "      <th></th>\n",
       "      <th>BirthDate</th>\n",
       "      <th>Customer_Open_Date</th>\n",
       "      <th>Number_Of_Dependant</th>\n",
       "      <th>Years_At_Residence</th>\n",
       "      <th>Net_Annual_Income</th>\n",
       "      <th>Years_At_Business</th>\n",
       "      <th>Prod_Decision_Date</th>\n",
       "      <th>Nb_Of_Products</th>\n",
       "      <th>Prod_Closed_Date</th>\n",
       "      <th>Customer_Type0</th>\n",
       "      <th>Customer_Type1</th>\n",
       "      <th>P_Client0</th>\n",
       "      <th>P_Client1</th>\n",
       "      <th>Educational_Level0</th>\n",
       "      <th>Educational_Level1</th>\n",
       "      <th>Educational_Level2</th>\n",
       "      <th>Educational_Level3</th>\n",
       "      <th>Marital_Status0</th>\n",
       "      <th>Marital_Status1</th>\n",
       "      <th>Marital_Status2</th>\n",
       "      <th>Marital_Status3</th>\n",
       "      <th>Marital_Status4</th>\n",
       "      <th>Prod_Sub_Category0</th>\n",
       "      <th>Prod_Sub_Category1</th>\n",
       "      <th>Prod_Sub_Category2</th>\n",
       "      <th>Source0</th>\n",
       "      <th>Source1</th>\n",
       "      <th>Type_Of_Residence0</th>\n",
       "      <th>Type_Of_Residence1</th>\n",
       "      <th>Type_Of_Residence2</th>\n",
       "      <th>Type_Of_Residence3</th>\n",
       "      <th>Type_Of_Residence4</th>\n",
       "      <th>Prod_Category0</th>\n",
       "      <th>Prod_Category1</th>\n",
       "      <th>Prod_Category2</th>\n",
       "      <th>Prod_Category3</th>\n",
       "      <th>Prod_Category4</th>\n",
       "      <th>Prod_Category5</th>\n",
       "      <th>Prod_Category6</th>\n",
       "      <th>Prod_Category7</th>\n",
       "      <th>Prod_Category8</th>\n",
       "      <th>Prod_Category9</th>\n",
       "      <th>Prod_Category10</th>\n",
       "      <th>Prod_Category11</th>\n",
       "      <th>Prod_Category12</th>\n",
       "    </tr>\n",
       "  </thead>\n",
       "  <tbody>\n",
       "    <tr>\n",
       "      <th>3776</th>\n",
       "      <td>1975-07-15</td>\n",
       "      <td>2009-04-15</td>\n",
       "      <td>0.0</td>\n",
       "      <td>15</td>\n",
       "      <td>100.0</td>\n",
       "      <td>1.0</td>\n",
       "      <td>2011-09-27</td>\n",
       "      <td>1</td>\n",
       "      <td>NaT</td>\n",
       "      <td>1.0</td>\n",
       "      <td>0.0</td>\n",
       "      <td>1.0</td>\n",
       "      <td>0.0</td>\n",
       "      <td>0.0</td>\n",
       "      <td>0.0</td>\n",
       "      <td>0.0</td>\n",
       "      <td>1.0</td>\n",
       "      <td>0.0</td>\n",
       "      <td>1.0</td>\n",
       "      <td>0.0</td>\n",
       "      <td>0.0</td>\n",
       "      <td>0.0</td>\n",
       "      <td>0.0</td>\n",
       "      <td>1.0</td>\n",
       "      <td>0.0</td>\n",
       "      <td>0.0</td>\n",
       "      <td>1.0</td>\n",
       "      <td>0.0</td>\n",
       "      <td>0.0</td>\n",
       "      <td>0.0</td>\n",
       "      <td>1.0</td>\n",
       "      <td>0.0</td>\n",
       "      <td>0.0</td>\n",
       "      <td>0.0</td>\n",
       "      <td>1.0</td>\n",
       "      <td>0.0</td>\n",
       "      <td>0.0</td>\n",
       "      <td>0.0</td>\n",
       "      <td>0.0</td>\n",
       "      <td>0.0</td>\n",
       "      <td>0.0</td>\n",
       "      <td>0.0</td>\n",
       "      <td>0.0</td>\n",
       "      <td>0.0</td>\n",
       "      <td>0.0</td>\n",
       "    </tr>\n",
       "    <tr>\n",
       "      <th>4186</th>\n",
       "      <td>1988-03-25</td>\n",
       "      <td>2011-11-01</td>\n",
       "      <td>0.0</td>\n",
       "      <td>1</td>\n",
       "      <td>20.0</td>\n",
       "      <td>1.0</td>\n",
       "      <td>2011-11-02</td>\n",
       "      <td>1</td>\n",
       "      <td>NaT</td>\n",
       "      <td>0.0</td>\n",
       "      <td>1.0</td>\n",
       "      <td>1.0</td>\n",
       "      <td>0.0</td>\n",
       "      <td>0.0</td>\n",
       "      <td>0.0</td>\n",
       "      <td>0.0</td>\n",
       "      <td>1.0</td>\n",
       "      <td>0.0</td>\n",
       "      <td>1.0</td>\n",
       "      <td>0.0</td>\n",
       "      <td>0.0</td>\n",
       "      <td>0.0</td>\n",
       "      <td>1.0</td>\n",
       "      <td>0.0</td>\n",
       "      <td>0.0</td>\n",
       "      <td>0.0</td>\n",
       "      <td>1.0</td>\n",
       "      <td>0.0</td>\n",
       "      <td>0.0</td>\n",
       "      <td>0.0</td>\n",
       "      <td>1.0</td>\n",
       "      <td>0.0</td>\n",
       "      <td>0.0</td>\n",
       "      <td>1.0</td>\n",
       "      <td>0.0</td>\n",
       "      <td>0.0</td>\n",
       "      <td>0.0</td>\n",
       "      <td>0.0</td>\n",
       "      <td>0.0</td>\n",
       "      <td>0.0</td>\n",
       "      <td>0.0</td>\n",
       "      <td>0.0</td>\n",
       "      <td>0.0</td>\n",
       "      <td>0.0</td>\n",
       "      <td>0.0</td>\n",
       "    </tr>\n",
       "    <tr>\n",
       "      <th>4174</th>\n",
       "      <td>1989-09-14</td>\n",
       "      <td>2012-01-10</td>\n",
       "      <td>0.0</td>\n",
       "      <td>1</td>\n",
       "      <td>36.0</td>\n",
       "      <td>1.0</td>\n",
       "      <td>2012-01-18</td>\n",
       "      <td>2</td>\n",
       "      <td>2012-12-02</td>\n",
       "      <td>0.0</td>\n",
       "      <td>1.0</td>\n",
       "      <td>1.0</td>\n",
       "      <td>0.0</td>\n",
       "      <td>0.0</td>\n",
       "      <td>0.0</td>\n",
       "      <td>0.0</td>\n",
       "      <td>1.0</td>\n",
       "      <td>0.0</td>\n",
       "      <td>0.0</td>\n",
       "      <td>0.0</td>\n",
       "      <td>1.0</td>\n",
       "      <td>0.0</td>\n",
       "      <td>1.0</td>\n",
       "      <td>0.0</td>\n",
       "      <td>0.0</td>\n",
       "      <td>0.0</td>\n",
       "      <td>1.0</td>\n",
       "      <td>0.0</td>\n",
       "      <td>0.0</td>\n",
       "      <td>0.0</td>\n",
       "      <td>1.0</td>\n",
       "      <td>0.0</td>\n",
       "      <td>0.0</td>\n",
       "      <td>1.0</td>\n",
       "      <td>0.0</td>\n",
       "      <td>0.0</td>\n",
       "      <td>0.0</td>\n",
       "      <td>0.0</td>\n",
       "      <td>0.0</td>\n",
       "      <td>0.0</td>\n",
       "      <td>0.0</td>\n",
       "      <td>0.0</td>\n",
       "      <td>0.0</td>\n",
       "      <td>0.0</td>\n",
       "      <td>0.0</td>\n",
       "    </tr>\n",
       "    <tr>\n",
       "      <th>1733</th>\n",
       "      <td>1983-09-01</td>\n",
       "      <td>2011-07-31</td>\n",
       "      <td>0.0</td>\n",
       "      <td>11</td>\n",
       "      <td>36.0</td>\n",
       "      <td>10.0</td>\n",
       "      <td>2011-08-01</td>\n",
       "      <td>2</td>\n",
       "      <td>2012-06-30</td>\n",
       "      <td>0.0</td>\n",
       "      <td>1.0</td>\n",
       "      <td>1.0</td>\n",
       "      <td>0.0</td>\n",
       "      <td>0.0</td>\n",
       "      <td>0.0</td>\n",
       "      <td>0.0</td>\n",
       "      <td>1.0</td>\n",
       "      <td>0.0</td>\n",
       "      <td>1.0</td>\n",
       "      <td>0.0</td>\n",
       "      <td>0.0</td>\n",
       "      <td>0.0</td>\n",
       "      <td>1.0</td>\n",
       "      <td>0.0</td>\n",
       "      <td>0.0</td>\n",
       "      <td>1.0</td>\n",
       "      <td>0.0</td>\n",
       "      <td>0.0</td>\n",
       "      <td>0.0</td>\n",
       "      <td>0.0</td>\n",
       "      <td>1.0</td>\n",
       "      <td>0.0</td>\n",
       "      <td>0.0</td>\n",
       "      <td>1.0</td>\n",
       "      <td>0.0</td>\n",
       "      <td>0.0</td>\n",
       "      <td>0.0</td>\n",
       "      <td>0.0</td>\n",
       "      <td>0.0</td>\n",
       "      <td>0.0</td>\n",
       "      <td>0.0</td>\n",
       "      <td>0.0</td>\n",
       "      <td>0.0</td>\n",
       "      <td>0.0</td>\n",
       "      <td>0.0</td>\n",
       "    </tr>\n",
       "    <tr>\n",
       "      <th>2048</th>\n",
       "      <td>1973-03-05</td>\n",
       "      <td>2011-06-01</td>\n",
       "      <td>0.0</td>\n",
       "      <td>7</td>\n",
       "      <td>18.0</td>\n",
       "      <td>2.0</td>\n",
       "      <td>2011-06-02</td>\n",
       "      <td>1</td>\n",
       "      <td>NaT</td>\n",
       "      <td>0.0</td>\n",
       "      <td>1.0</td>\n",
       "      <td>1.0</td>\n",
       "      <td>0.0</td>\n",
       "      <td>0.0</td>\n",
       "      <td>0.0</td>\n",
       "      <td>0.0</td>\n",
       "      <td>1.0</td>\n",
       "      <td>0.0</td>\n",
       "      <td>1.0</td>\n",
       "      <td>0.0</td>\n",
       "      <td>0.0</td>\n",
       "      <td>0.0</td>\n",
       "      <td>1.0</td>\n",
       "      <td>0.0</td>\n",
       "      <td>0.0</td>\n",
       "      <td>1.0</td>\n",
       "      <td>0.0</td>\n",
       "      <td>0.0</td>\n",
       "      <td>0.0</td>\n",
       "      <td>0.0</td>\n",
       "      <td>1.0</td>\n",
       "      <td>0.0</td>\n",
       "      <td>0.0</td>\n",
       "      <td>1.0</td>\n",
       "      <td>0.0</td>\n",
       "      <td>0.0</td>\n",
       "      <td>0.0</td>\n",
       "      <td>0.0</td>\n",
       "      <td>0.0</td>\n",
       "      <td>0.0</td>\n",
       "      <td>0.0</td>\n",
       "      <td>0.0</td>\n",
       "      <td>0.0</td>\n",
       "      <td>0.0</td>\n",
       "      <td>0.0</td>\n",
       "    </tr>\n",
       "  </tbody>\n",
       "</table>\n",
       "</div>"
      ],
      "text/plain": [
       "      BirthDate Customer_Open_Date  ...  Prod_Category11  Prod_Category12\n",
       "3776 1975-07-15         2009-04-15  ...              0.0              0.0\n",
       "4186 1988-03-25         2011-11-01  ...              0.0              0.0\n",
       "4174 1989-09-14         2012-01-10  ...              0.0              0.0\n",
       "1733 1983-09-01         2011-07-31  ...              0.0              0.0\n",
       "2048 1973-03-05         2011-06-01  ...              0.0              0.0\n",
       "\n",
       "[5 rows x 45 columns]"
      ]
     },
     "execution_count": 22,
     "metadata": {
      "tags": []
     },
     "output_type": "execute_result"
    }
   ],
   "source": [
    "train_set_c.head()"
   ]
  },
  {
   "cell_type": "markdown",
   "metadata": {
    "id": "I4s60dvaJmpT"
   },
   "source": [
    "## Test different models"
   ]
  },
  {
   "cell_type": "markdown",
   "metadata": {
    "id": "iKHWY6aiJmpV"
   },
   "source": [
    "### Linear Regression"
   ]
  },
  {
   "cell_type": "code",
   "execution_count": null,
   "metadata": {
    "id": "D7H1V3RJJmpW"
   },
   "outputs": [],
   "source": [
    "from sklearn.linear_model import LinearRegression"
   ]
  },
  {
   "cell_type": "code",
   "execution_count": null,
   "metadata": {
    "id": "W6cE_7UQJmpj"
   },
   "outputs": [],
   "source": [
    "lin_reg = LinearRegression()\n",
    "lin_reg.fit(train_set_c.drop(dates, axis = 1).fillna(0), train_label)\n",
    "test_pred = np.array(lin_reg.predict(test_set_c.drop(dates, axis =1 ).fillna(0)))\n",
    "test_label_array = np.array(test_label.tolist())"
   ]
  },
  {
   "cell_type": "code",
   "execution_count": null,
   "metadata": {
    "colab": {
     "base_uri": "https://localhost:8080/",
     "height": 34
    },
    "id": "A6eNPwLAJmqB",
    "outputId": "81e44f39-9394-4d21-ece2-4e89d9abb72e"
   },
   "outputs": [
    {
     "name": "stdout",
     "output_type": "stream",
     "text": [
      "Best seuil =  8 ; precision =  0.9368029739776952\n"
     ]
    }
   ],
   "source": [
    "N = len(test_label)\n",
    "best_seuil = 2\n",
    "precision = 0\n",
    "n = 20\n",
    "for seuil in range(0,n):  # linear regression return a value from 0 and 1, therefore we want to get a best seuil for divide 0 and 1\n",
    "    p = np.sum((test_pred > seuil/n) == test_label_array)\n",
    "    if p > precision:\n",
    "        best_seuil = seuil  \n",
    "        precision = p\n",
    "print(\"Best seuil = \", best_seuil, \"; precision = \", precision/N)"
   ]
  },
  {
   "cell_type": "code",
   "execution_count": null,
   "metadata": {
    "colab": {
     "base_uri": "https://localhost:8080/",
     "height": 34
    },
    "id": "lrR1gSm6JmqM",
    "outputId": "0efe5be7-7ea1-47f2-e2a5-c9e1571ec16b"
   },
   "outputs": [
    {
     "data": {
      "text/plain": [
       "3"
      ]
     },
     "execution_count": 26,
     "metadata": {
      "tags": []
     },
     "output_type": "execute_result"
    }
   ],
   "source": [
    "np.sum(np.array(list(1*(test_pred > best_seuil/n)))) # How many positive prediction"
   ]
  },
  {
   "cell_type": "code",
   "execution_count": null,
   "metadata": {
    "colab": {
     "base_uri": "https://localhost:8080/",
     "height": 34
    },
    "id": "7F9BTWieJmqS",
    "outputId": "d4e5a9f3-b415-4906-82f9-58a578ca704b"
   },
   "outputs": [
    {
     "data": {
      "text/plain": [
       "103"
      ]
     },
     "execution_count": 27,
     "metadata": {
      "tags": []
     },
     "output_type": "execute_result"
    }
   ],
   "source": [
    "np.sum(test_label)"
   ]
  },
  {
   "cell_type": "markdown",
   "metadata": {
    "id": "LPrdaZYbLEcH"
   },
   "source": [
    "We find that a linear regression only identify 3 fraud records out of 103 in the test set...This is not good at all.\n",
    "We will look at the lasso, with some penalization to see whether this will change the performance."
   ]
  },
  {
   "cell_type": "markdown",
   "metadata": {
    "id": "fGSRez5IA6nF"
   },
   "source": [
    "### Lasso regression"
   ]
  },
  {
   "cell_type": "code",
   "execution_count": null,
   "metadata": {
    "id": "yiG99rqNA6nG"
   },
   "outputs": [],
   "source": [
    "from sklearn import linear_model\n",
    "lin_reg_lasso = linear_model.Lasso(alpha=0.1)"
   ]
  },
  {
   "cell_type": "code",
   "execution_count": null,
   "metadata": {
    "id": "NLnlXnbuA6nS"
   },
   "outputs": [],
   "source": [
    "from sklearn.metrics import f1_score\n",
    "from sklearn.metrics import confusion_matrix"
   ]
  },
  {
   "cell_type": "code",
   "execution_count": null,
   "metadata": {
    "colab": {
     "base_uri": "https://localhost:8080/",
     "height": 34
    },
    "id": "OuIbOPxlA6nY",
    "outputId": "5cf4d941-276f-47f6-fca8-df3bb2eaae8a"
   },
   "outputs": [
    {
     "name": "stdout",
     "output_type": "stream",
     "text": [
      "Best seuil =  1 ; f1_score =  0.905326790582404\n"
     ]
    }
   ],
   "source": [
    "lin_reg_lasso.fit(train_set.drop(dates, axis = 1).fillna(0), train_label)\n",
    "test_lasso_pred = np.array(lin_reg_lasso.predict(test_set.drop(dates, axis =1 ).fillna(0)))\n",
    "\n",
    "N = len(test_label)\n",
    "best_lasso_seuil = 2\n",
    "test_f1_score = 0\n",
    "n = 20\n",
    "for seuil in range(0,n):\n",
    "    p = f1_score(test_label.tolist(), ((test_lasso_pred>seuil)*1).tolist(), average =\"weighted\")\n",
    "    if p > test_f1_score:\n",
    "        best_lasso_seuil = seuil\n",
    "        test_f1_score = p\n",
    "print(\"Best seuil = \", best_lasso_seuil, \"; f1_score = \", test_f1_score)"
   ]
  },
  {
   "cell_type": "code",
   "execution_count": null,
   "metadata": {
    "colab": {
     "base_uri": "https://localhost:8080/",
     "height": 34
    },
    "id": "gi1-crbrA6ng",
    "outputId": "caa601ec-7d43-40cf-a08d-4ca9dc2cab1a"
   },
   "outputs": [
    {
     "data": {
      "text/plain": [
       "1511"
      ]
     },
     "execution_count": 31,
     "metadata": {
      "tags": []
     },
     "output_type": "execute_result"
    }
   ],
   "source": [
    "np.sum((1*(test_lasso_pred>best_lasso_seuil)) == test_label_array)"
   ]
  },
  {
   "cell_type": "code",
   "execution_count": null,
   "metadata": {
    "colab": {
     "base_uri": "https://localhost:8080/",
     "height": 34
    },
    "id": "S8pcx91OA6np",
    "outputId": "a11796d9-91ee-4439-cb11-cdb734aad4b4"
   },
   "outputs": [
    {
     "data": {
      "text/plain": [
       "0"
      ]
     },
     "execution_count": 32,
     "metadata": {
      "tags": []
     },
     "output_type": "execute_result"
    }
   ],
   "source": [
    "np.sum(1*(test_lasso_pred>best_lasso_seuil) )"
   ]
  },
  {
   "cell_type": "markdown",
   "metadata": {
    "id": "POMlk4IXL5BO"
   },
   "source": [
    "Actually, Lasso does not increase the performance."
   ]
  },
  {
   "cell_type": "markdown",
   "metadata": {
    "id": "n5JGMsAoJmqY"
   },
   "source": [
    "### Xgboost"
   ]
  },
  {
   "cell_type": "markdown",
   "metadata": {
    "id": "ZiWJhaSxL_N0"
   },
   "source": [
    "Xgboost is a powerful model. In current Xgboost package, we could ajust many parameters: like lambda for penalization, gamma for pruning, eta for the weight of new add features etc..\n",
    "We first apply a classical Xgboost:"
   ]
  },
  {
   "cell_type": "code",
   "execution_count": null,
   "metadata": {
    "id": "2IdqbLwtJmqZ"
   },
   "outputs": [],
   "source": [
    "from xgboost import XGBClassifier, plot_importance\n",
    "import xgboost as xgb"
   ]
  },
  {
   "cell_type": "code",
   "execution_count": null,
   "metadata": {
    "id": "e88RM-lEJmqe"
   },
   "outputs": [],
   "source": [
    "params = {\n",
    "    'booster': 'gbtree',\n",
    "    'objective': 'multi:softmax', # set the problem as a classification problem\n",
    "    'num_class': 2,     # with 2 class\n",
    "    'gamma': 0.1,      # Limite the spreading of the tree\n",
    "    'max_depth': 10,\n",
    "    'lambda': 2,   # penelization coefficient\n",
    "    'subsample': 0.6,\n",
    "    'colsample_bytree': 0.7,\n",
    "    'min_child_weight': 5,\n",
    "    'silent': 1,\n",
    "    'eta': 0.1,\n",
    "    'seed': 2020,\n",
    "    'nthread': 4,\n",
    "}\n",
    "\n",
    "plst = params.items()\n",
    "num_rounds = 500\n",
    "dtest = xgb.DMatrix(test_set_c.drop(dates, axis = 1).fillna(0))\n",
    "dtrain = xgb.DMatrix(train_set_c.drop(dates, axis = 1).fillna(0), train_label)\n",
    "xgb_model = xgb.train(plst, dtrain, num_rounds)\n",
    "\n",
    "xgb_result = xgb_model.predict(dtest)"
   ]
  },
  {
   "cell_type": "code",
   "execution_count": null,
   "metadata": {
    "colab": {
     "base_uri": "https://localhost:8080/",
     "height": 34
    },
    "id": "5XQUrfluA6n-",
    "outputId": "d40d91d4-90df-4221-eeb3-8c92476b4b1f"
   },
   "outputs": [
    {
     "data": {
      "text/plain": [
       "42.0"
      ]
     },
     "execution_count": 35,
     "metadata": {
      "tags": []
     },
     "output_type": "execute_result"
    }
   ],
   "source": [
    "np.sum(xgb_result) # number of positive prediction in total"
   ]
  },
  {
   "cell_type": "markdown",
   "metadata": {
    "id": "9tREAxioA6oE"
   },
   "source": [
    "Thus in binary classification, the count of true negatives is C0,0, false negatives is C1,0, true positives is C1,1 and false positives is C0,1."
   ]
  },
  {
   "cell_type": "code",
   "execution_count": null,
   "metadata": {
    "colab": {
     "base_uri": "https://localhost:8080/",
     "height": 51
    },
    "id": "o6NNjlw5A6oF",
    "outputId": "213c8b1d-9527-4761-81f9-73742f679239"
   },
   "outputs": [
    {
     "data": {
      "text/plain": [
       "array([[1485,   87],\n",
       "       [  26,   16]])"
      ]
     },
     "execution_count": 36,
     "metadata": {
      "tags": []
     },
     "output_type": "execute_result"
    }
   ],
   "source": [
    "confusion_matrix(list(xgb_result), test_label.tolist())"
   ]
  },
  {
   "cell_type": "code",
   "execution_count": null,
   "metadata": {
    "colab": {
     "base_uri": "https://localhost:8080/",
     "height": 34
    },
    "id": "CJ2yLcF9A6oJ",
    "outputId": "0d071650-3968-4430-b78c-91a644aebb05"
   },
   "outputs": [
    {
     "data": {
      "text/plain": [
       "0.38095238095238093"
      ]
     },
     "execution_count": 37,
     "metadata": {
      "tags": []
     },
     "output_type": "execute_result"
    }
   ],
   "source": [
    "recall_score(list(xgb_result), test_label.tolist())"
   ]
  },
  {
   "cell_type": "code",
   "execution_count": null,
   "metadata": {
    "colab": {
     "base_uri": "https://localhost:8080/",
     "height": 34
    },
    "id": "alyquCVrA6oP",
    "outputId": "a3e974fc-3996-4983-bbd0-1f05acd489c9"
   },
   "outputs": [
    {
     "data": {
      "text/plain": [
       "0.2206896551724138"
      ]
     },
     "execution_count": 38,
     "metadata": {
      "tags": []
     },
     "output_type": "execute_result"
    }
   ],
   "source": [
    "f1_score(list(xgb_result), test_label.tolist())"
   ]
  },
  {
   "cell_type": "code",
   "execution_count": null,
   "metadata": {
    "colab": {
     "base_uri": "https://localhost:8080/",
     "height": 34
    },
    "id": "b3ZPuKudA6oT",
    "outputId": "629e5538-31fe-4842-f8f5-4916f4f0760f"
   },
   "outputs": [
    {
     "name": "stdout",
     "output_type": "stream",
     "text": [
      "precision : 0.1553398058252427\n"
     ]
    }
   ],
   "source": [
    "print(\"precision :\", precision_score(list(xgb_result), test_label.tolist()))"
   ]
  },
  {
   "cell_type": "code",
   "execution_count": null,
   "metadata": {
    "colab": {
     "base_uri": "https://localhost:8080/",
     "height": 295
    },
    "id": "0W-MGnLKJmqk",
    "outputId": "11557e04-5d51-4f03-800f-89726c8d47f0"
   },
   "outputs": [
    {
     "data": {
      "image/png": "[encoded data removed]",
      "text/plain": [
       "<Figure size 432x288 with 1 Axes>"
      ]
     },
     "metadata": {
      "needs_background": "light",
      "tags": []
     },
     "output_type": "display_data"
    }
   ],
   "source": [
    "plot_importance(xgb_model, max_num_features = 8)\n",
    "plt.show()"
   ]
  },
  {
   "cell_type": "markdown",
   "metadata": {
    "id": "77UMuah9M5ye"
   },
   "source": [
    "Surprisingly, the Years At Residence is the most important feature, to which the net annual income has almost the same weight."
   ]
  },
  {
   "cell_type": "markdown",
   "metadata": {
    "id": "50BMT4jeA6oe"
   },
   "source": [
    "### Try oversampling method"
   ]
  },
  {
   "cell_type": "markdown",
   "metadata": {
    "id": "Nj3yMOSPNNeV"
   },
   "source": [
    "Since we have limited fraud records, to make sure that each record appears frequently at the bagging phase, we have copied the fraud record 7 times and added back to the training set. We will see that this will help improve the precision of True positive. However, this won't improve much the F1 score."
   ]
  },
  {
   "cell_type": "code",
   "execution_count": null,
   "metadata": {
    "id": "HyJYVfmFA6of"
   },
   "outputs": [],
   "source": [
    "train_over_sampled = train_set.copy()\n",
    "train_over_sampled[train_over_sampled[\"Y\"] == 1]\n",
    "train_over_sampled = pd.concat([train_set, train_over_sampled[train_over_sampled[\"Y\"] == 1]], axis = 0)\n",
    "train_over_sampled = pd.concat([train_over_sampled, train_over_sampled[train_over_sampled[\"Y\"] == 1]], axis = 0)\n",
    "train_over_sampled = pd.concat([train_over_sampled, train_over_sampled[train_over_sampled[\"Y\"] == 1]], axis = 0)"
   ]
  },
  {
   "cell_type": "code",
   "execution_count": null,
   "metadata": {
    "colab": {
     "base_uri": "https://localhost:8080/",
     "height": 34
    },
    "id": "rPVwuUjgA6ol",
    "outputId": "9a536ea6-e489-4bd2-830a-7e5ce80a8928"
   },
   "outputs": [
    {
     "data": {
      "text/plain": [
       "(3766, 46)"
      ]
     },
     "execution_count": 42,
     "metadata": {
      "tags": []
     },
     "output_type": "execute_result"
    }
   ],
   "source": [
    "train_set.shape"
   ]
  },
  {
   "cell_type": "markdown",
   "metadata": {
    "id": "2jSuNcKnNs5d"
   },
   "source": [
    "Compared to original training set, we have added around 2000 repeated fraud record."
   ]
  },
  {
   "cell_type": "code",
   "execution_count": null,
   "metadata": {
    "colab": {
     "base_uri": "https://localhost:8080/",
     "height": 34
    },
    "id": "Vyxdd85QA6ou",
    "outputId": "a80a58c8-c2f2-46be-afb1-09e03a4d3f08"
   },
   "outputs": [
    {
     "data": {
      "text/plain": [
       "(5796, 46)"
      ]
     },
     "execution_count": 43,
     "metadata": {
      "tags": []
     },
     "output_type": "execute_result"
    }
   ],
   "source": [
    "train_over_sampled.shape"
   ]
  },
  {
   "cell_type": "code",
   "execution_count": null,
   "metadata": {
    "id": "6Z6HNsAtA6o7"
   },
   "outputs": [],
   "source": [
    "train_over_sampled_label = train_over_sampled['Y'].copy()\n",
    "train_over_sampled = train_over_sampled.drop(\"Y\", axis = 1)"
   ]
  },
  {
   "cell_type": "markdown",
   "metadata": {
    "id": "OB0AbVGrN0nM"
   },
   "source": [
    "We rerun the Xgboost model with the same parameter as before："
   ]
  },
  {
   "cell_type": "code",
   "execution_count": null,
   "metadata": {
    "id": "MUdJN7icA6pC"
   },
   "outputs": [],
   "source": [
    "dtrain_oversample = xgb.DMatrix(train_over_sampled.drop(dates, axis = 1).fillna(0), train_over_sampled_label)\n",
    "xgb_model_oversample = xgb.train(plst, dtrain_oversample, num_rounds)\n",
    "xgb_result_oversample = xgb_model_oversample.predict(dtest)"
   ]
  },
  {
   "cell_type": "code",
   "execution_count": null,
   "metadata": {
    "colab": {
     "base_uri": "https://localhost:8080/",
     "height": 118
    },
    "id": "VrxW6RifA6pM",
    "outputId": "b0faf829-b2c9-4f79-efcc-46d3ab823a09"
   },
   "outputs": [
    {
     "name": "stdout",
     "output_type": "stream",
     "text": [
      "num_positive : 154.0\n",
      "[[1386   74]\n",
      " [ 125   29]]\n",
      "recall_score :  0.18831168831168832\n",
      "f1_core :  0.22568093385214005\n",
      "precision : 0.2815533980582524\n"
     ]
    }
   ],
   "source": [
    "print('num_positive :', np.sum(xgb_result_oversample))\n",
    "print(confusion_matrix(list(xgb_result_oversample), test_label.tolist()))\n",
    "print(\"recall_score : \", recall_score(list(xgb_result_oversample), test_label.tolist()))\n",
    "print(\"f1_core : \", f1_score(list(xgb_result_oversample), test_label.tolist()))\n",
    "print(\"precision :\", precision_score(list(xgb_result_oversample), test_label.tolist()))"
   ]
  },
  {
   "cell_type": "markdown",
   "metadata": {
    "id": "8ecQypHoN_rl"
   },
   "source": [
    "We remark that the precision score has improved to around 30%, while recall sore decrease from 38% to 18%."
   ]
  },
  {
   "cell_type": "code",
   "execution_count": null,
   "metadata": {
    "colab": {
     "base_uri": "https://localhost:8080/",
     "height": 295
    },
    "id": "LkCfgz8NA6pQ",
    "outputId": "0c6903f9-17fd-45f1-c405-7247eb052ee9"
   },
   "outputs": [
    {
     "data": {
      "image/png": "[encoded data removed]",
      "text/plain": [
       "<Figure size 432x288 with 1 Axes>"
      ]
     },
     "metadata": {
      "needs_background": "light",
      "tags": []
     },
     "output_type": "display_data"
    }
   ],
   "source": [
    "plot_importance(xgb_model, max_num_features = 8)\n",
    "plt.show()"
   ]
  },
  {
   "cell_type": "markdown",
   "metadata": {
    "id": "seUQkGiNA6pU"
   },
   "source": [
    "## Try to visualise the data by clustering"
   ]
  },
  {
   "cell_type": "markdown",
   "metadata": {
    "id": "rWDrqPidOG1U"
   },
   "source": [
    "The classical method don't work quite well on this problem, therefore we want to give some arguments to explain this phenomena. Therefore we conduct a unsupervised clustering to see what the data looks like. \n",
    "We use a TSNE package which could mapping the data from high dimension to low dimension (less than 4 is allowed for the mapped dimension). And a PCA.\n",
    "\n",
    "From the following figure, we think that one explaination is that the fraud detection is more complicated than a binary classification, because after a dimension reduction to 3, the two class are still well entangled. And there are many different groups in both fraud and non-fraud group."
   ]
  },
  {
   "cell_type": "code",
   "execution_count": null,
   "metadata": {
    "id": "S-QX3njEA6pV"
   },
   "outputs": [],
   "source": [
    "from sklearn.manifold import TSNE\n",
    "from sklearn.decomposition import PCA"
   ]
  },
  {
   "cell_type": "code",
   "execution_count": null,
   "metadata": {
    "id": "LwzY8GQnA6pd"
   },
   "outputs": [],
   "source": [
    "from mpl_toolkits.mplot3d import Axes3D\n",
    "\n",
    "def visualize(x_cord):\n",
    "    fig = plt.figure()\n",
    "    ax = fig.add_subplot(111, projection='3d')\n",
    "    i = 0\n",
    "    for x, y, z in x_cord:\n",
    "        ax.scatter(y, x, z, c='b')\n",
    "   \n",
    "    ax.set_ylabel('X Label')\n",
    "    ax.set_zlabel('Y Label')\n",
    "    ax.set_xlabel('X Label')\n",
    "\n",
    "\n",
    "    plt.show()"
   ]
  },
  {
   "cell_type": "code",
   "execution_count": null,
   "metadata": {
    "id": "Mj-qO9LpA6pj"
   },
   "outputs": [],
   "source": [
    "df_tsne = TSNE(n_components=3).fit_transform(df_c[features_cat].fillna(0))"
   ]
  },
  {
   "cell_type": "code",
   "execution_count": null,
   "metadata": {
    "colab": {
     "base_uri": "https://localhost:8080/",
     "height": 324
    },
    "id": "uP5Q_N8NA6pq",
    "outputId": "bf488b8a-5b67-448b-ab9b-c02408e47cfe"
   },
   "outputs": [
    {
     "data": {
      "image/png": "[encoded data removed]",
      "text/plain": [
       "<Figure size 1080x360 with 3 Axes>"
      ]
     },
     "metadata": {
      "needs_background": "light",
      "tags": []
     },
     "output_type": "display_data"
    }
   ],
   "source": [
    "plt.figure(figsize = (15,5))\n",
    "plt.subplot(131)\n",
    "plt.scatter(df_tsne[:,0], df_tsne[:,1], c=df_c.Y, label = \"t-sne\")\n",
    "plt.xlim(-30,30)\n",
    "plt.ylim(-30,30)\n",
    "plt.legend()\n",
    "\n",
    "plt.subplot(132)\n",
    "plt.scatter(df_tsne[:,1], df_tsne[:,2], c=df_c.Y, label = \"t-sne\")\n",
    "plt.xlim(-30,30)\n",
    "plt.ylim(-30,30)\n",
    "plt.legend()\n",
    "\n",
    "plt.subplot(133)\n",
    "plt.scatter(df_tsne[:,0], df_tsne[:,2], c=df_c.Y, label = \"t-sne\")\n",
    "plt.xlim(-30,30)\n",
    "plt.ylim(-30,30)\n",
    "plt.legend()\n",
    "\n",
    "plt.show()"
   ]
  },
  {
   "cell_type": "markdown",
   "metadata": {
    "id": "UTz8e9xUPNQM"
   },
   "source": [
    "The yellow point represent fraud, and the purple is non-fraud. As we can see, this cannot be seperated from a clustering in 3 dimensions."
   ]
  },
  {
   "cell_type": "markdown",
   "metadata": {
    "id": "hcs6l-zvA6p9"
   },
   "source": [
    "## PCA for grouping"
   ]
  },
  {
   "cell_type": "markdown",
   "metadata": {
    "id": "zK-0Hb2VPmoe"
   },
   "source": [
    "We then look do a PCA for fraud record. This suggests that may be there are different fraud type. "
   ]
  },
  {
   "cell_type": "code",
   "execution_count": null,
   "metadata": {
    "id": "olLTtVbPA6p-"
   },
   "outputs": [],
   "source": [
    "#df_positive_label = df_c[df_c['Y'] == 1].Y\n",
    "df_pca_positive = PCA(n_components=3).fit_transform(df_c[df_c['Y'] == 1].drop(dates+[\"Id_Customer\", \"Y\"], axis = 1).fillna(0))"
   ]
  },
  {
   "cell_type": "code",
   "execution_count": null,
   "metadata": {
    "colab": {
     "base_uri": "https://localhost:8080/",
     "height": 320
    },
    "id": "Z3lhn8h2A6qD",
    "outputId": "c627bee4-1016-4656-9b77-76a7c4ee3a79"
   },
   "outputs": [
    {
     "data": {
      "image/png": "[encoded data removed]",
      "text/plain": [
       "<Figure size 1080x360 with 3 Axes>"
      ]
     },
     "metadata": {
      "needs_background": "light",
      "tags": []
     },
     "output_type": "display_data"
    }
   ],
   "source": [
    "plt.figure(figsize = (15,5))\n",
    "plt.subplot(131)\n",
    "plt.scatter(df_pca_positive[:,0], df_pca_positive[:,1], c= df_c[df_c['Y'] == 1].Y, label = \"t-sne\")\n",
    "plt.legend()\n",
    "\n",
    "plt.subplot(132)\n",
    "plt.scatter(df_pca_positive[:,1], df_pca_positive[:,2], c= df_c[df_c['Y'] == 1].Y, label = \"t-sne\")\n",
    "plt.legend()\n",
    "\n",
    "plt.subplot(133)\n",
    "plt.scatter(df_pca_positive[:,0], df_pca_positive[:,2], c= df_c[df_c['Y'] == 1].Y, label = \"t-sne\")\n",
    "plt.legend()\n",
    "\n",
    "plt.show()"
   ]
  },
  {
   "cell_type": "markdown",
   "metadata": {
    "id": "Ptx8CmHHPyyQ"
   },
   "source": [
    "Seems that different fraud group exist in 3 dimensions."
   ]
  },
  {
   "cell_type": "code",
   "execution_count": null,
   "metadata": {
    "colab": {
     "base_uri": "https://localhost:8080/",
     "height": 248
    },
    "id": "8N52805VA6qK",
    "outputId": "bcf5358b-641f-4fc2-dc99-51ac0a8fa9a9"
   },
   "outputs": [
    {
     "data": {
      "image/png": "[encoded data removed]",
      "text/plain": [
       "<Figure size 432x288 with 1 Axes>"
      ]
     },
     "metadata": {
      "needs_background": "light",
      "tags": []
     },
     "output_type": "display_data"
    }
   ],
   "source": [
    "visualize(df_pca_positive)"
   ]
  },
  {
   "cell_type": "markdown",
   "metadata": {
    "id": "sK3YrJ285Gxn"
   },
   "source": [
    "## **Neural Network Approach**"
   ]
  },
  {
   "cell_type": "markdown",
   "metadata": {
    "id": "OA2SigwLmHCf"
   },
   "source": [
    "We will be using the library keras just for the sake of simplicity "
   ]
  },
  {
   "cell_type": "code",
   "execution_count": null,
   "metadata": {
    "id": "xjZobl0gjWkc"
   },
   "outputs": [],
   "source": [
    "import pandas as pd\n",
    "import numpy as np\n",
    "import math\n",
    "from sklearn.model_selection import train_test_split\n",
    "from keras.models import Sequential\n",
    "from keras.layers import Dense"
   ]
  },
  {
   "cell_type": "markdown",
   "metadata": {
    "id": "TBy6XC41n1qM"
   },
   "source": [
    "We return back to use the initial data in the file CreditTraining and we follow a very similar procedure to the one described above before using one hot encoder. "
   ]
  },
  {
   "cell_type": "code",
   "execution_count": null,
   "metadata": {
    "id": "XqHjMvaaiO__"
   },
   "outputs": [],
   "source": [
    "newdf = pd.read_csv(\"CreditTraining.csv\")\n",
    "\n",
    "dates = ['BirthDate', 'Customer_Open_Date', 'Prod_Decision_Date','Prod_Closed_Date']\n",
    "for d in dates:\n",
    "    newdf[d] = pd.to_datetime(newdf[d], format = \"%d/%m/%Y\", errors='ignore')\n",
    "\n",
    "to_float = ['Net_Annual_Income']\n",
    "for f in to_float:\n",
    "    newdf[f] = newdf[f].str.replace(',','.').astype(float)"
   ]
  },
  {
   "cell_type": "markdown",
   "metadata": {
    "id": "nLZFbu0UoROH"
   },
   "source": [
    "However, this time, before going further, we will remove some outliers and add some variables. \n",
    "We start by selecting unrealistic data such as having more than 20 dependants or at least 97 years in a business. \n"
   ]
  },
  {
   "cell_type": "code",
   "execution_count": null,
   "metadata": {
    "colab": {
     "base_uri": "https://localhost:8080/",
     "height": 101
    },
    "id": "MNG4psC5iXq1",
    "outputId": "45ecb870-1feb-43b9-e616-c92873a18217"
   },
   "outputs": [
    {
     "name": "stderr",
     "output_type": "stream",
     "text": [
      "/usr/local/lib/python3.6/dist-packages/ipykernel_launcher.py:16: SettingWithCopyWarning: \n",
      "A value is trying to be set on a copy of a slice from a DataFrame\n",
      "\n",
      "See the caveats in the documentation: https://pandas.pydata.org/pandas-docs/stable/user_guide/indexing.html#returning-a-view-versus-a-copy\n",
      "  app.launch_new_instance()\n"
     ]
    }
   ],
   "source": [
    "rows_out = set()  \n",
    "rows, _ = newdf.shape\n",
    "\n",
    "# Removing Marial Status Outliers\n",
    "for i in range(rows):\n",
    "    if newdf['Marital_Status'][i] == 'Separated':\n",
    "        rows_out.add(i)\n",
    "\n",
    "# Removing Number_of_dependants and truncating to 5\n",
    "for i in range(rows):\n",
    "    if newdf['Number_Of_Dependant'][i] == 20:\n",
    "        rows_out.add(i)\n",
    "    elif newdf['Number_Of_Dependant'][i] == 12:\n",
    "        rows_out.add(i)\n",
    "    elif newdf['Number_Of_Dependant'][i] >= 5: \n",
    "        newdf['Number_Of_Dependant'][i] = 5\n",
    "# Removing data with Years_at_business >= 97, it is just not realistic\n",
    "for i in range(rows):\n",
    "    if newdf['Years_At_Business'][i] >= 97:\n",
    "        rows_out.add(i)\n",
    "\n",
    "rows_out = list(rows_out)\n",
    "\n",
    "# we know that everything in rows_out must not be considered"
   ]
  },
  {
   "cell_type": "code",
   "execution_count": null,
   "metadata": {
    "id": "sNo8soePPS9L"
   },
   "outputs": [],
   "source": [
    "from sklearn.preprocessing import LabelEncoder"
   ]
  },
  {
   "cell_type": "markdown",
   "metadata": {
    "id": "sh2YgCmapbx1"
   },
   "source": [
    "We will add a couple of variables (features)\n",
    "Those are <br>\n",
    "**time_to_decide** := Prod_Decision_Date - Customer_Open_Date <br>\n",
    "**ask_age** := Customer_Open_Date - BirthDate <br>\n",
    "The intuition behind these variables is to provide a relevance to the time taken by the company to communicate its decision and also to the age of a person by the time they ask for the credit. \n",
    "It is very natural to consider these variables since a longer time for **time_to_decide** could indicate that the credit will be rejected and a young age for **ask_age** can also be a factor of rejection. "
   ]
  },
  {
   "cell_type": "code",
   "execution_count": null,
   "metadata": {
    "id": "u-Hc1-zypaUZ"
   },
   "outputs": [],
   "source": [
    "# We add a column \"Time_to_Decide\" which is Prod_Decision_Date - Customer_Open_Date \n",
    "time_to_decide = [(newdf['Prod_Decision_Date'][i] - newdf['Customer_Open_Date'][i]).days for i in range(newdf.shape[0])]\n",
    "\n",
    "# We add a column for the age you have when you ask for the credit\n",
    "ask_age = [(newdf['Customer_Open_Date'][i] - newdf['BirthDate'][i]).days // 365 for i in range(newdf.shape[0])]\n",
    "\n",
    "newdf = newdf.assign(Time_to_Decide = pd.Series(np.array(time_to_decide)).values)\n",
    "newdf = newdf.assign(Ask_Age = pd.Series(np.array(ask_age)).values)\n",
    "\n",
    "# Removing outliers\n",
    "newdf = newdf.drop(rows_out, axis = 0)\n"
   ]
  },
  {
   "cell_type": "markdown",
   "metadata": {
    "id": "01ON6lC2qxaC"
   },
   "source": [
    "We repeat the procedure done before for splitting the data into the train and test sets."
   ]
  },
  {
   "cell_type": "code",
   "execution_count": null,
   "metadata": {
    "colab": {
     "base_uri": "https://localhost:8080/",
     "height": 541
    },
    "id": "tH-rlqSSBBal",
    "outputId": "923ef1f9-2678-4f75-8723-0ed770614447"
   },
   "outputs": [
    {
     "name": "stdout",
     "output_type": "stream",
     "text": [
      "<class 'pandas.core.frame.DataFrame'>\n",
      "Int64Index: 3756 entries, 3056 to 867\n",
      "Data columns (total 21 columns):\n",
      " #   Column               Non-Null Count  Dtype         \n",
      "---  ------               --------------  -----         \n",
      " 0   Id_Customer          3756 non-null   int64         \n",
      " 1   Y                    3756 non-null   int64         \n",
      " 2   Customer_Type        3756 non-null   object        \n",
      " 3   BirthDate            3756 non-null   datetime64[ns]\n",
      " 4   Customer_Open_Date   3756 non-null   datetime64[ns]\n",
      " 5   P_Client             3756 non-null   object        \n",
      " 6   Educational_Level    3756 non-null   object        \n",
      " 7   Marital_Status       3756 non-null   object        \n",
      " 8   Number_Of_Dependant  3756 non-null   float64       \n",
      " 9   Years_At_Residence   3756 non-null   int64         \n",
      " 10  Net_Annual_Income    3756 non-null   float64       \n",
      " 11  Years_At_Business    3754 non-null   float64       \n",
      " 12  Prod_Sub_Category    3756 non-null   object        \n",
      " 13  Prod_Decision_Date   3756 non-null   datetime64[ns]\n",
      " 14  Source               3756 non-null   object        \n",
      " 15  Type_Of_Residence    3756 non-null   object        \n",
      " 16  Nb_Of_Products       3756 non-null   int64         \n",
      " 17  Prod_Closed_Date     804 non-null    datetime64[ns]\n",
      " 18  Prod_Category        3756 non-null   object        \n",
      " 19  Time_to_Decide       3756 non-null   int64         \n",
      " 20  Ask_Age              3756 non-null   int64         \n",
      "dtypes: datetime64[ns](4), float64(3), int64(6), object(8)\n",
      "memory usage: 645.6+ KB\n",
      "None\n",
      "3756\n",
      "1611\n"
     ]
    }
   ],
   "source": [
    "train_set, test_set = train_test_split(newdf, test_size = 0.3, random_state = 2020)\n",
    "train_label = train_set['Y'].copy()\n",
    "\n",
    "test_label = test_set['Y'].copy()\n",
    "\n",
    "train_set_d = train_set.copy()\n",
    "print(train_set_d.info())\n",
    "test_set_d = test_set.copy()\n",
    "encoder_dict = {}\n",
    "\n",
    "features_cat = ['Customer_Type','P_Client','Educational_Level','Marital_Status','Prod_Sub_Category',\n",
    "                    'Source','Type_Of_Residence', 'Prod_Category']\n",
    "for f in features_cat:\n",
    "    encoder = LabelEncoder()\n",
    "    train_set_d[f] = encoder.fit_transform(train_set_d[f])\n",
    "    test_set_d[f] = encoder.fit_transform(test_set_d[f])\n",
    "    encoder_dict[f] = dict(zip(encoder.classes_, encoder.transform(encoder.classes_)))\n",
    "\n",
    "\n",
    "\n",
    "print(len(train_set_d))\n",
    "print(len(test_set_d))"
   ]
  },
  {
   "cell_type": "code",
   "execution_count": null,
   "metadata": {
    "id": "T6Tj1L4Q7TU0"
   },
   "outputs": [],
   "source": [
    "from keras.models import Sequential\n",
    "from keras.layers import Dense"
   ]
  },
  {
   "cell_type": "code",
   "execution_count": null,
   "metadata": {
    "colab": {
     "base_uri": "https://localhost:8080/",
     "height": 301
    },
    "id": "GR1a6hLnW-zX",
    "outputId": "6a9e0717-e70a-4cfd-f95b-7b77d3eb60be"
   },
   "outputs": [
    {
     "data": {
      "text/html": [
       "<div>\n",
       "<style scoped>\n",
       "    .dataframe tbody tr th:only-of-type {\n",
       "        vertical-align: middle;\n",
       "    }\n",
       "\n",
       "    .dataframe tbody tr th {\n",
       "        vertical-align: top;\n",
       "    }\n",
       "\n",
       "    .dataframe thead th {\n",
       "        text-align: right;\n",
       "    }\n",
       "</style>\n",
       "<table border=\"1\" class=\"dataframe\">\n",
       "  <thead>\n",
       "    <tr style=\"text-align: right;\">\n",
       "      <th></th>\n",
       "      <th>Id_Customer</th>\n",
       "      <th>Y</th>\n",
       "      <th>Customer_Type</th>\n",
       "      <th>BirthDate</th>\n",
       "      <th>Customer_Open_Date</th>\n",
       "      <th>P_Client</th>\n",
       "      <th>Educational_Level</th>\n",
       "      <th>Marital_Status</th>\n",
       "      <th>Number_Of_Dependant</th>\n",
       "      <th>Years_At_Residence</th>\n",
       "      <th>Net_Annual_Income</th>\n",
       "      <th>Years_At_Business</th>\n",
       "      <th>Prod_Sub_Category</th>\n",
       "      <th>Prod_Decision_Date</th>\n",
       "      <th>Source</th>\n",
       "      <th>Type_Of_Residence</th>\n",
       "      <th>Nb_Of_Products</th>\n",
       "      <th>Prod_Closed_Date</th>\n",
       "      <th>Prod_Category</th>\n",
       "      <th>Time_to_Decide</th>\n",
       "      <th>Ask_Age</th>\n",
       "    </tr>\n",
       "  </thead>\n",
       "  <tbody>\n",
       "    <tr>\n",
       "      <th>3056</th>\n",
       "      <td>2170</td>\n",
       "      <td>0</td>\n",
       "      <td>0</td>\n",
       "      <td>1964-05-14</td>\n",
       "      <td>2011-07-11</td>\n",
       "      <td>0</td>\n",
       "      <td>1</td>\n",
       "      <td>1</td>\n",
       "      <td>1.0</td>\n",
       "      <td>3</td>\n",
       "      <td>20.000</td>\n",
       "      <td>1.0</td>\n",
       "      <td>1</td>\n",
       "      <td>2011-08-03</td>\n",
       "      <td>1</td>\n",
       "      <td>3</td>\n",
       "      <td>1</td>\n",
       "      <td>NaT</td>\n",
       "      <td>2</td>\n",
       "      <td>23</td>\n",
       "      <td>47</td>\n",
       "    </tr>\n",
       "    <tr>\n",
       "      <th>1872</th>\n",
       "      <td>8603</td>\n",
       "      <td>0</td>\n",
       "      <td>1</td>\n",
       "      <td>1954-12-20</td>\n",
       "      <td>2012-03-19</td>\n",
       "      <td>0</td>\n",
       "      <td>3</td>\n",
       "      <td>1</td>\n",
       "      <td>2.0</td>\n",
       "      <td>10</td>\n",
       "      <td>36.000</td>\n",
       "      <td>10.0</td>\n",
       "      <td>0</td>\n",
       "      <td>2012-03-21</td>\n",
       "      <td>1</td>\n",
       "      <td>3</td>\n",
       "      <td>1</td>\n",
       "      <td>NaT</td>\n",
       "      <td>1</td>\n",
       "      <td>2</td>\n",
       "      <td>57</td>\n",
       "    </tr>\n",
       "    <tr>\n",
       "      <th>1318</th>\n",
       "      <td>6776</td>\n",
       "      <td>0</td>\n",
       "      <td>1</td>\n",
       "      <td>1972-03-24</td>\n",
       "      <td>2012-01-18</td>\n",
       "      <td>0</td>\n",
       "      <td>3</td>\n",
       "      <td>1</td>\n",
       "      <td>3.0</td>\n",
       "      <td>10</td>\n",
       "      <td>36.000</td>\n",
       "      <td>3.0</td>\n",
       "      <td>0</td>\n",
       "      <td>2012-01-23</td>\n",
       "      <td>1</td>\n",
       "      <td>3</td>\n",
       "      <td>1</td>\n",
       "      <td>NaT</td>\n",
       "      <td>1</td>\n",
       "      <td>5</td>\n",
       "      <td>39</td>\n",
       "    </tr>\n",
       "    <tr>\n",
       "      <th>99</th>\n",
       "      <td>491</td>\n",
       "      <td>1</td>\n",
       "      <td>0</td>\n",
       "      <td>1957-10-03</td>\n",
       "      <td>1992-04-08</td>\n",
       "      <td>0</td>\n",
       "      <td>3</td>\n",
       "      <td>1</td>\n",
       "      <td>2.0</td>\n",
       "      <td>15</td>\n",
       "      <td>100.000</td>\n",
       "      <td>16.0</td>\n",
       "      <td>0</td>\n",
       "      <td>2011-05-24</td>\n",
       "      <td>0</td>\n",
       "      <td>3</td>\n",
       "      <td>1</td>\n",
       "      <td>2011-12-29</td>\n",
       "      <td>2</td>\n",
       "      <td>6985</td>\n",
       "      <td>34</td>\n",
       "    </tr>\n",
       "    <tr>\n",
       "      <th>2487</th>\n",
       "      <td>8938</td>\n",
       "      <td>0</td>\n",
       "      <td>0</td>\n",
       "      <td>1973-05-10</td>\n",
       "      <td>2010-04-08</td>\n",
       "      <td>1</td>\n",
       "      <td>0</td>\n",
       "      <td>1</td>\n",
       "      <td>5.0</td>\n",
       "      <td>5</td>\n",
       "      <td>35.652</td>\n",
       "      <td>3.0</td>\n",
       "      <td>0</td>\n",
       "      <td>2012-04-04</td>\n",
       "      <td>0</td>\n",
       "      <td>2</td>\n",
       "      <td>1</td>\n",
       "      <td>NaT</td>\n",
       "      <td>6</td>\n",
       "      <td>727</td>\n",
       "      <td>36</td>\n",
       "    </tr>\n",
       "  </tbody>\n",
       "</table>\n",
       "</div>"
      ],
      "text/plain": [
       "      Id_Customer  Y  Customer_Type  ... Prod_Category Time_to_Decide  Ask_Age\n",
       "3056         2170  0              0  ...             2             23       47\n",
       "1872         8603  0              1  ...             1              2       57\n",
       "1318         6776  0              1  ...             1              5       39\n",
       "99            491  1              0  ...             2           6985       34\n",
       "2487         8938  0              0  ...             6            727       36\n",
       "\n",
       "[5 rows x 21 columns]"
      ]
     },
     "execution_count": 74,
     "metadata": {
      "tags": []
     },
     "output_type": "execute_result"
    }
   ],
   "source": [
    "train_set_d.head()"
   ]
  },
  {
   "cell_type": "markdown",
   "metadata": {
    "id": "ApGEwfqCr3a8"
   },
   "source": [
    "Here, we construct our first neural network. The design is quite simple. It has 4 layers (1 input, 2 hidden and 1 output). The two hidden layers have each 16 nodes.<br>\n",
    "Also, we start with a first set of features consisting in all the categorical ones plus the new two features, **time_to_decide** and **ask_age** that we defined just before. <br>\n",
    "It is also important to state that we have chosen **Adam** , a optimization of Stochastic gradient descent which works in general quite well and we took **epochs** = 300, **batch_size** = 32 just because these values reduce significantly the time necessary for the training. "
   ]
  },
  {
   "cell_type": "code",
   "execution_count": null,
   "metadata": {
    "colab": {
     "base_uri": "https://localhost:8080/",
     "height": 34
    },
    "id": "Qs9IlqC9St8m",
    "outputId": "d3b8f61a-a157-495a-fe7a-1ccbde77df7a"
   },
   "outputs": [
    {
     "data": {
      "text/plain": [
       "<keras.callbacks.callbacks.History at 0x7fc049c5c390>"
      ]
     },
     "execution_count": 75,
     "metadata": {
      "tags": []
     },
     "output_type": "execute_result"
    }
   ],
   "source": [
    "rem_features = features_cat.copy()\n",
    "rem_features.append('Time_to_Decide')\n",
    "rem_features.append('Ask_Age')\n",
    "\n",
    "#rem_features.append('Years_At_Residence')\n",
    "#rem_features.append('Net_Annual_Income')\n",
    "\n",
    "\n",
    "train_label_np = train_label.to_numpy() \n",
    "\n",
    "model = Sequential()\n",
    "model.add(Dense(16, input_dim = len(rem_features), activation = 'relu'))\n",
    "model.add(Dense(16, activation = 'relu'))\n",
    "model.add(Dense(1, activation = 'sigmoid'))\n",
    "\n",
    "\n",
    "model.compile(loss = 'binary_crossentropy', optimizer = 'adam', metrics = ['accuracy'])\n",
    "\n",
    "model.fit(train_set_d[rem_features].to_numpy(), train_label_np, epochs = 300, batch_size = 32, verbose = 0)"
   ]
  },
  {
   "cell_type": "markdown",
   "metadata": {
    "id": "B0dt9IMHsqb4"
   },
   "source": [
    "Now, the predictions are made based in NN. "
   ]
  },
  {
   "cell_type": "code",
   "execution_count": null,
   "metadata": {
    "colab": {
     "base_uri": "https://localhost:8080/",
     "height": 135
    },
    "id": "8oeenjrT6OSN",
    "outputId": "71091b5c-2e44-4401-d948-337138e2c8cc"
   },
   "outputs": [
    {
     "name": "stdout",
     "output_type": "stream",
     "text": [
      "[[0.07514584]\n",
      " [0.15102392]\n",
      " [0.03615004]\n",
      " ...\n",
      " [0.08930516]\n",
      " [0.06828556]\n",
      " [0.09515893]]\n"
     ]
    }
   ],
   "source": [
    "test_set_np = test_set_d[rem_features].to_numpy()\n",
    "test_label_np = test_label.to_numpy() \n",
    "\n",
    "predictions = model.predict(test_set_np)\n",
    "print(predictions) "
   ]
  },
  {
   "cell_type": "markdown",
   "metadata": {
    "id": "9FCZUWfptkXX"
   },
   "source": [
    "Finally, we choose the best threshold **best_sl** in such a way that all the predictions greater than **best_sl** are considered as 1, all the others as 0 and the number of correct predictions in the test set is maximized."
   ]
  },
  {
   "cell_type": "code",
   "execution_count": null,
   "metadata": {
    "colab": {
     "base_uri": "https://localhost:8080/",
     "height": 118
    },
    "id": "kH5f0HF2Uiv3",
    "outputId": "346c6d12-887c-4d7f-fd77-31a0510ba60d"
   },
   "outputs": [
    {
     "name": "stdout",
     "output_type": "stream",
     "text": [
      "1611\n",
      "13\n",
      "0.64\n",
      "0.9342023587833643\n",
      "Number of ones in test set:  109  and true positives found:  8\n",
      "F1:  0.13114754098360656\n"
     ]
    }
   ],
   "source": [
    "test_set_np = test_set_d[rem_features].to_numpy()\n",
    "test_label_np = test_label.to_numpy() \n",
    "\n",
    "\n",
    "predictions = model.predict(test_set_np)\n",
    "\n",
    "list_of_seuils = [0.01 * i for i in range(1, 70)]\n",
    "rounded = []\n",
    "best_sl = -1\n",
    "best_app = -1\n",
    "\n",
    "for seuil  in list_of_seuils: \n",
    "    rounded = [1 * (x[0] > seuil) for x in predictions]\n",
    "    right_prdts = np.sum([int(rounded[i] == test_label_np[i]) for i in range(len(rounded))])\n",
    "    if right_prdts > best_app:\n",
    "        best_app = right_prdts\n",
    "        best_sl = seuil\n",
    "\n",
    "rounded = [1* (x[0] > best_sl) for x in predictions]\n",
    "\n",
    "print(len(rounded))\n",
    "np.array([int(rounded[i] == test_label_np[i]) for i in range(len(test_label_np))])\n",
    "print(np.sum(rounded))\n",
    "value = np.sum([int(rounded[i] == test_label_np[i]) for i in range(len(rounded))])\n",
    "print(best_sl)\n",
    "print(value/len(test_label_np))\n",
    "\n",
    "falsepos = 0\n",
    "truepos = 0\n",
    "falseneg = 0\n",
    "for i in range(len(test_label_np)):\n",
    "    if test_label_np[i] == 1 and rounded[i] == 1:\n",
    "        truepos += 1\n",
    "    if test_label_np[i] == 1 and rounded[i] == 0:\n",
    "        falseneg += 1\n",
    "    if test_label_np[i] == 0 and rounded[i] == 1:\n",
    "        falsepos += 1\n",
    "\n",
    "print(\"Number of ones in test set: \", truepos + falseneg, \" and true positives found: \", truepos)\n",
    "\n",
    "precision = float(truepos) / (truepos + falsepos)\n",
    "recall = float(truepos) / (truepos + falseneg)\n",
    "\n",
    "print(\"F1: \", 2.0*precision * recall / (precision + recall))"
   ]
  },
  {
   "cell_type": "markdown",
   "metadata": {
    "id": "EIQa2ZuZu1Ah"
   },
   "source": [
    "Thus, we end up with 15 out of 109 (~14% of correct predictions when the predictions are 1) and with a total precision of 0.934 for the complete test set. <br> <br>  \n",
    "\n",
    "The F-score is about 0.20 (this value like the other ones change in every iteration since it depends on the training of the model using the NN). <br>\n",
    "Even though, we notice that the performance of our neural network is not good enough (it is overperformed by the Xgboost approach for example), probably due to the lack of training in a resonable time (just a couple of minutes for now) and also because the design of the NN is very basic. <br>More complex networks would require more time to be trained though. \n",
    "\n"
   ]
  },
  {
   "cell_type": "code",
   "execution_count": null,
   "metadata": {
    "id": "8gH2xabVZVg7"
   },
   "outputs": [],
   "source": []
  }
 ],
 "metadata": {
  "colab": {
   "collapsed_sections": [],
   "name": "MLII_EDA_17AvrilMinuit.ipynb",
   "provenance": [],
   "toc_visible": true
  },
  "kernelspec": {
   "display_name": "Python 3",
   "language": "python",
   "name": "python3"
  },
  "language_info": {
   "codemirror_mode": {
    "name": "ipython",
    "version": 3
   },
   "file_extension": ".py",
   "mimetype": "text/x-python",
   "name": "python",
   "nbconvert_exporter": "python",
   "pygments_lexer": "ipython3",
   "version": "3.7.0"
  },
  "toc": {
   "base_numbering": 1,
   "nav_menu": {},
   "number_sections": true,
   "sideBar": true,
   "skip_h1_title": false,
   "title_cell": "Table of Contents",
   "title_sidebar": "Contents",
   "toc_cell": false,
   "toc_position": {},
   "toc_section_display": true,
   "toc_window_display": false
  }
 },
 "nbformat": 4,
 "nbformat_minor": 1
}
